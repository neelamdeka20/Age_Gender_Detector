{
 "cells": [
  {
   "cell_type": "markdown",
   "id": "e3777447",
   "metadata": {
    "papermill": {
     "duration": 0.016517,
     "end_time": "2023-12-27T11:02:17.620094",
     "exception": false,
     "start_time": "2023-12-27T11:02:17.603577",
     "status": "completed"
    },
    "tags": []
   },
   "source": [
    "# Model for Age and Gender Detection"
   ]
  },
  {
   "cell_type": "markdown",
   "id": "e5aa5e3b",
   "metadata": {
    "papermill": {
     "duration": 0.015359,
     "end_time": "2023-12-27T11:02:17.651310",
     "exception": false,
     "start_time": "2023-12-27T11:02:17.635951",
     "status": "completed"
    },
    "tags": []
   },
   "source": [
    "**Import Necessary Libraries**"
   ]
  },
  {
   "cell_type": "code",
   "execution_count": 1,
   "id": "663dbc80",
   "metadata": {
    "execution": {
     "iopub.execute_input": "2023-12-27T11:02:17.684121Z",
     "iopub.status.busy": "2023-12-27T11:02:17.683776Z",
     "iopub.status.idle": "2023-12-27T11:02:17.695474Z",
     "shell.execute_reply": "2023-12-27T11:02:17.694538Z"
    },
    "papermill": {
     "duration": 0.030643,
     "end_time": "2023-12-27T11:02:17.697614",
     "exception": false,
     "start_time": "2023-12-27T11:02:17.666971",
     "status": "completed"
    },
    "tags": []
   },
   "outputs": [],
   "source": [
    "import warnings\n",
    "\n",
    "# Filter out DeprecationWarnings\n",
    "warnings.filterwarnings(\"ignore\", category=DeprecationWarning)"
   ]
  },
  {
   "cell_type": "code",
   "execution_count": 2,
   "id": "c1595155",
   "metadata": {
    "execution": {
     "iopub.execute_input": "2023-12-27T11:02:17.731478Z",
     "iopub.status.busy": "2023-12-27T11:02:17.730937Z",
     "iopub.status.idle": "2023-12-27T11:02:29.907332Z",
     "shell.execute_reply": "2023-12-27T11:02:29.906550Z"
    },
    "papermill": {
     "duration": 12.195899,
     "end_time": "2023-12-27T11:02:29.909601",
     "exception": false,
     "start_time": "2023-12-27T11:02:17.713702",
     "status": "completed"
    },
    "tags": []
   },
   "outputs": [
    {
     "name": "stderr",
     "output_type": "stream",
     "text": [
      "/opt/conda/lib/python3.10/site-packages/scipy/__init__.py:146: UserWarning: A NumPy version >=1.16.5 and <1.23.0 is required for this version of SciPy (detected version 1.24.3\n",
      "  warnings.warn(f\"A NumPy version >={np_minversion} and <{np_maxversion}\"\n"
     ]
    }
   ],
   "source": [
    "import tensorflow as tf\n",
    "import cv2 as cv2\n",
    "import numpy as np \n",
    "import matplotlib.pyplot as plt\n",
    "import os\n",
    "\n",
    "from tensorflow.keras.layers import Dense, Flatten, Dropout\n",
    "from tensorflow.keras.layers import BatchNormalization, MaxPooling2D, Conv2D\n",
    "from tensorflow.keras.layers import Input, Activation, Add\n",
    "from tensorflow.keras.models import Model\n",
    "from tensorflow.keras.regularizers import l2\n",
    "from tensorflow.keras.optimizers import Adam, Adagrad, Adadelta, Adamax, RMSprop"
   ]
  },
  {
   "cell_type": "markdown",
   "id": "7f217710",
   "metadata": {
    "papermill": {
     "duration": 0.01394,
     "end_time": "2023-12-27T11:02:29.938671",
     "exception": false,
     "start_time": "2023-12-27T11:02:29.924731",
     "status": "completed"
    },
    "tags": []
   },
   "source": [
    "**Extract data from the dataset**"
   ]
  },
  {
   "cell_type": "code",
   "execution_count": 3,
   "id": "a1fa444c",
   "metadata": {
    "execution": {
     "iopub.execute_input": "2023-12-27T11:02:29.968280Z",
     "iopub.status.busy": "2023-12-27T11:02:29.967762Z",
     "iopub.status.idle": "2023-12-27T11:02:37.005580Z",
     "shell.execute_reply": "2023-12-27T11:02:37.004768Z"
    },
    "papermill": {
     "duration": 7.055007,
     "end_time": "2023-12-27T11:02:37.007673",
     "exception": false,
     "start_time": "2023-12-27T11:02:29.952666",
     "status": "completed"
    },
    "tags": []
   },
   "outputs": [],
   "source": [
    "fldir = '/kaggle/input/utkface-new/UTKFace'\n",
    "files = os.listdir(fldir)"
   ]
  },
  {
   "cell_type": "markdown",
   "id": "d8ab4611",
   "metadata": {
    "papermill": {
     "duration": 0.013681,
     "end_time": "2023-12-27T11:02:37.035924",
     "exception": false,
     "start_time": "2023-12-27T11:02:37.022243",
     "status": "completed"
    },
    "tags": []
   },
   "source": [
    "**Creating a list of images**"
   ]
  },
  {
   "cell_type": "code",
   "execution_count": 4,
   "id": "163b22a2",
   "metadata": {
    "execution": {
     "iopub.execute_input": "2023-12-27T11:02:37.065800Z",
     "iopub.status.busy": "2023-12-27T11:02:37.065054Z",
     "iopub.status.idle": "2023-12-27T11:09:34.334918Z",
     "shell.execute_reply": "2023-12-27T11:09:34.333863Z"
    },
    "papermill": {
     "duration": 417.287478,
     "end_time": "2023-12-27T11:09:34.337475",
     "exception": false,
     "start_time": "2023-12-27T11:02:37.049997",
     "status": "completed"
    },
    "tags": []
   },
   "outputs": [],
   "source": [
    "images = []\n",
    "\n",
    "for file in files:\n",
    "    total = fldir + '/' + file\n",
    "    # print(total)\n",
    "    image = cv2.imread(total)\n",
    "\n",
    "    if image is not None:\n",
    "        image = cv2.cvtColor(image, cv2.COLOR_BGR2RGB)\n",
    "        image = cv2.resize(image, (48, 48))\n",
    "        images.append(image)\n",
    "    else:\n",
    "        print(\"Error: Unable to load the image.\", file)\n"
   ]
  },
  {
   "cell_type": "markdown",
   "id": "978a623e",
   "metadata": {
    "papermill": {
     "duration": 0.013938,
     "end_time": "2023-12-27T11:09:34.365690",
     "exception": false,
     "start_time": "2023-12-27T11:09:34.351752",
     "status": "completed"
    },
    "tags": []
   },
   "source": [
    "**Creating a list of Age and Gender**"
   ]
  },
  {
   "cell_type": "code",
   "execution_count": 5,
   "id": "f0f1b6f2",
   "metadata": {
    "execution": {
     "iopub.execute_input": "2023-12-27T11:09:34.436339Z",
     "iopub.status.busy": "2023-12-27T11:09:34.435989Z",
     "iopub.status.idle": "2023-12-27T11:09:34.472841Z",
     "shell.execute_reply": "2023-12-27T11:09:34.472132Z"
    },
    "papermill": {
     "duration": 0.054092,
     "end_time": "2023-12-27T11:09:34.474800",
     "exception": false,
     "start_time": "2023-12-27T11:09:34.420708",
     "status": "completed"
    },
    "tags": []
   },
   "outputs": [],
   "source": [
    "ages = []\n",
    "genders = []\n",
    "\n",
    "for file in files:\n",
    "    age = int(file.split('_')[0])\n",
    "    gender = int(file.split('_')[1])\n",
    "\n",
    "    ages.append(age)\n",
    "    genders.append(gender)"
   ]
  },
  {
   "cell_type": "markdown",
   "id": "550b02ff",
   "metadata": {
    "papermill": {
     "duration": 0.013461,
     "end_time": "2023-12-27T11:09:34.502143",
     "exception": false,
     "start_time": "2023-12-27T11:09:34.488682",
     "status": "completed"
    },
    "tags": []
   },
   "source": [
    "**Showing a sample**"
   ]
  },
  {
   "cell_type": "code",
   "execution_count": 6,
   "id": "f576ea36",
   "metadata": {
    "execution": {
     "iopub.execute_input": "2023-12-27T11:09:34.530835Z",
     "iopub.status.busy": "2023-12-27T11:09:34.530513Z",
     "iopub.status.idle": "2023-12-27T11:09:34.730413Z",
     "shell.execute_reply": "2023-12-27T11:09:34.729547Z"
    },
    "papermill": {
     "duration": 0.216759,
     "end_time": "2023-12-27T11:09:34.732576",
     "exception": false,
     "start_time": "2023-12-27T11:09:34.515817",
     "status": "completed"
    },
    "tags": []
   },
   "outputs": [
    {
     "name": "stdout",
     "output_type": "stream",
     "text": [
      "3\n",
      "1\n"
     ]
    },
    {
     "data": {
      "text/plain": [
       "<matplotlib.image.AxesImage at 0x7be95901e0b0>"
      ]
     },
     "execution_count": 6,
     "metadata": {},
     "output_type": "execute_result"
    },
    {
     "data": {
      "image/png": "[encoded data removed]",
      "text/plain": [
       "<Figure size 640x480 with 1 Axes>"
      ]
     },
     "metadata": {},
     "output_type": "display_data"
    }
   ],
   "source": [
    "print(ages[100])\n",
    "print(genders[100])\n",
    "plt.imshow(images[100])"
   ]
  },
  {
   "cell_type": "markdown",
   "id": "4eefe1d4",
   "metadata": {
    "papermill": {
     "duration": 0.014123,
     "end_time": "2023-12-27T11:09:34.761260",
     "exception": false,
     "start_time": "2023-12-27T11:09:34.747137",
     "status": "completed"
    },
    "tags": []
   },
   "source": [
    "**Converting the images, ages and genders to numpy array and saving in the system**"
   ]
  },
  {
   "cell_type": "code",
   "execution_count": 7,
   "id": "3c7b61ff",
   "metadata": {
    "execution": {
     "iopub.execute_input": "2023-12-27T11:09:34.791120Z",
     "iopub.status.busy": "2023-12-27T11:09:34.790806Z",
     "iopub.status.idle": "2023-12-27T11:09:34.865669Z",
     "shell.execute_reply": "2023-12-27T11:09:34.864885Z"
    },
    "papermill": {
     "duration": 0.092272,
     "end_time": "2023-12-27T11:09:34.867884",
     "exception": false,
     "start_time": "2023-12-27T11:09:34.775612",
     "status": "completed"
    },
    "tags": []
   },
   "outputs": [],
   "source": [
    "images_f = np.array(images)\n",
    "ages_f = np.array(ages)\n",
    "genders_f = np.array(genders)"
   ]
  },
  {
   "cell_type": "code",
   "execution_count": 8,
   "id": "7775af69",
   "metadata": {
    "execution": {
     "iopub.execute_input": "2023-12-27T11:09:34.898847Z",
     "iopub.status.busy": "2023-12-27T11:09:34.898530Z",
     "iopub.status.idle": "2023-12-27T11:09:35.016860Z",
     "shell.execute_reply": "2023-12-27T11:09:35.015809Z"
    },
    "papermill": {
     "duration": 0.136466,
     "end_time": "2023-12-27T11:09:35.019208",
     "exception": false,
     "start_time": "2023-12-27T11:09:34.882742",
     "status": "completed"
    },
    "tags": []
   },
   "outputs": [],
   "source": [
    "np.save('/kaggle/working/images.npy', images_f)\n",
    "np.save('/kaggle/working/ages.npy', ages_f)\n",
    "np.save('/kaggle/working/genders.npy', genders_f)"
   ]
  },
  {
   "cell_type": "markdown",
   "id": "ab0c3f21",
   "metadata": {
    "papermill": {
     "duration": 0.014371,
     "end_time": "2023-12-27T11:09:35.048357",
     "exception": false,
     "start_time": "2023-12-27T11:09:35.033986",
     "status": "completed"
    },
    "tags": []
   },
   "source": [
    "**Finding number of elements in the dataset**"
   ]
  },
  {
   "cell_type": "code",
   "execution_count": 9,
   "id": "1a1e1d90",
   "metadata": {
    "execution": {
     "iopub.execute_input": "2023-12-27T11:09:35.078454Z",
     "iopub.status.busy": "2023-12-27T11:09:35.078117Z",
     "iopub.status.idle": "2023-12-27T11:09:35.085518Z",
     "shell.execute_reply": "2023-12-27T11:09:35.084458Z"
    },
    "papermill": {
     "duration": 0.024705,
     "end_time": "2023-12-27T11:09:35.087502",
     "exception": false,
     "start_time": "2023-12-27T11:09:35.062797",
     "status": "completed"
    },
    "tags": []
   },
   "outputs": [
    {
     "name": "stdout",
     "output_type": "stream",
     "text": [
      "[12391 11317] \n",
      " [1123  482  289  273  196  131  139  263  166  156   65  130   81  157\n",
      "  177  247  158  262   98  284  346  395  426  859  734 2197  615  918\n",
      "  570  724  350  664  143  409  880  483  293  325  266  526  132  266\n",
      "  157  100  440  153  170  153  148  381  138  232  241  353  268  236\n",
      "   97  271   82  293  161  125  103   50  259   77   94  100   56  147\n",
      "   33   98   63   32  148   58   28   69   23  133   22   40   18   24\n",
      "  155   35   10   34   33   82    2   13    5    9   17    9   11    2\n",
      "    1    5    5    1    3    4]\n"
     ]
    }
   ],
   "source": [
    "gen_values, gen_counts = np.unique(genders_f, return_counts = True)\n",
    "age_values, age_counts = np.unique(ages_f, return_counts = True)\n",
    "print(gen_counts, \"\\n\" , age_counts)"
   ]
  },
  {
   "cell_type": "markdown",
   "id": "f3f840d1",
   "metadata": {
    "papermill": {
     "duration": 0.014417,
     "end_time": "2023-12-27T11:09:35.116243",
     "exception": false,
     "start_time": "2023-12-27T11:09:35.101826",
     "status": "completed"
    },
    "tags": []
   },
   "source": [
    "## Plotting"
   ]
  },
  {
   "cell_type": "markdown",
   "id": "0287a74b",
   "metadata": {
    "papermill": {
     "duration": 0.014265,
     "end_time": "2023-12-27T11:09:35.145010",
     "exception": false,
     "start_time": "2023-12-27T11:09:35.130745",
     "status": "completed"
    },
    "tags": []
   },
   "source": [
    "**Number of Male and Female Samples**"
   ]
  },
  {
   "cell_type": "code",
   "execution_count": 10,
   "id": "9db171e8",
   "metadata": {
    "execution": {
     "iopub.execute_input": "2023-12-27T11:09:35.175249Z",
     "iopub.status.busy": "2023-12-27T11:09:35.174892Z",
     "iopub.status.idle": "2023-12-27T11:09:35.368124Z",
     "shell.execute_reply": "2023-12-27T11:09:35.367262Z"
    },
    "papermill": {
     "duration": 0.210894,
     "end_time": "2023-12-27T11:09:35.370243",
     "exception": false,
     "start_time": "2023-12-27T11:09:35.159349",
     "status": "completed"
    },
    "tags": []
   },
   "outputs": [
    {
     "data": {
      "image/png": "[encoded data removed]",
      "text/plain": [
       "<Figure size 640x480 with 1 Axes>"
      ]
     },
     "metadata": {},
     "output_type": "display_data"
    }
   ],
   "source": [
    "ax = plt.figure().add_axes([0, 0, 1, 1])\n",
    "sex = ['Male', 'Female']\n",
    "ax.bar(sex, gen_counts)\n",
    "plt.show()"
   ]
  },
  {
   "cell_type": "markdown",
   "id": "db9d44c4",
   "metadata": {
    "papermill": {
     "duration": 0.014496,
     "end_time": "2023-12-27T11:09:35.399606",
     "exception": false,
     "start_time": "2023-12-27T11:09:35.385110",
     "status": "completed"
    },
    "tags": []
   },
   "source": [
    "**Number of samples in each age**"
   ]
  },
  {
   "cell_type": "code",
   "execution_count": 11,
   "id": "9a73034f",
   "metadata": {
    "execution": {
     "iopub.execute_input": "2023-12-27T11:09:35.430697Z",
     "iopub.status.busy": "2023-12-27T11:09:35.430040Z",
     "iopub.status.idle": "2023-12-27T11:09:35.591329Z",
     "shell.execute_reply": "2023-12-27T11:09:35.590223Z"
    },
    "papermill": {
     "duration": 0.179853,
     "end_time": "2023-12-27T11:09:35.594123",
     "exception": false,
     "start_time": "2023-12-27T11:09:35.414270",
     "status": "completed"
    },
    "tags": []
   },
   "outputs": [
    {
     "data": {
      "image/png": "[encoded data removed]",
      "text/plain": [
       "<Figure size 640x480 with 1 Axes>"
      ]
     },
     "metadata": {},
     "output_type": "display_data"
    }
   ],
   "source": [
    "plt.plot(age_values, age_counts)\n",
    "plt.xlabel('Age')\n",
    "plt.ylabel('Distribution')\n",
    "plt.show()"
   ]
  },
  {
   "cell_type": "markdown",
   "id": "87cfdca7",
   "metadata": {
    "papermill": {
     "duration": 0.016521,
     "end_time": "2023-12-27T11:09:35.627222",
     "exception": false,
     "start_time": "2023-12-27T11:09:35.610701",
     "status": "completed"
    },
    "tags": []
   },
   "source": [
    "## Defining labels for output"
   ]
  },
  {
   "cell_type": "code",
   "execution_count": 12,
   "id": "943b1b71",
   "metadata": {
    "execution": {
     "iopub.execute_input": "2023-12-27T11:09:35.661126Z",
     "iopub.status.busy": "2023-12-27T11:09:35.660809Z",
     "iopub.status.idle": "2023-12-27T11:09:35.871088Z",
     "shell.execute_reply": "2023-12-27T11:09:35.870199Z"
    },
    "papermill": {
     "duration": 0.229603,
     "end_time": "2023-12-27T11:09:35.873151",
     "exception": false,
     "start_time": "2023-12-27T11:09:35.643548",
     "status": "completed"
    },
    "tags": []
   },
   "outputs": [],
   "source": [
    "labels = []\n",
    "i = 0\n",
    "while(i<len(ages)):\n",
    "    label = []\n",
    "    label.append(ages[i])\n",
    "    label.append(genders[i])\n",
    "    labels.append(label)\n",
    "    i += 1"
   ]
  },
  {
   "cell_type": "markdown",
   "id": "56304690",
   "metadata": {
    "papermill": {
     "duration": 0.015159,
     "end_time": "2023-12-27T11:09:35.903887",
     "exception": false,
     "start_time": "2023-12-27T11:09:35.888728",
     "status": "completed"
    },
    "tags": []
   },
   "source": [
    "**Creating new image list for better learning**"
   ]
  },
  {
   "cell_type": "code",
   "execution_count": 13,
   "id": "7800b554",
   "metadata": {
    "execution": {
     "iopub.execute_input": "2023-12-27T11:09:35.935147Z",
     "iopub.status.busy": "2023-12-27T11:09:35.934837Z",
     "iopub.status.idle": "2023-12-27T11:09:36.338137Z",
     "shell.execute_reply": "2023-12-27T11:09:36.337208Z"
    },
    "papermill": {
     "duration": 0.421431,
     "end_time": "2023-12-27T11:09:36.340314",
     "exception": false,
     "start_time": "2023-12-27T11:09:35.918883",
     "status": "completed"
    },
    "tags": []
   },
   "outputs": [
    {
     "data": {
      "text/plain": [
       "(23708, 48, 48, 3)"
      ]
     },
     "execution_count": 13,
     "metadata": {},
     "output_type": "execute_result"
    }
   ],
   "source": [
    "images_f2 = images_f/255\n",
    "images_f2.shape"
   ]
  },
  {
   "cell_type": "code",
   "execution_count": 14,
   "id": "fa91dd06",
   "metadata": {
    "execution": {
     "iopub.execute_input": "2023-12-27T11:09:36.372664Z",
     "iopub.status.busy": "2023-12-27T11:09:36.372306Z",
     "iopub.status.idle": "2023-12-27T11:09:36.390712Z",
     "shell.execute_reply": "2023-12-27T11:09:36.389997Z"
    },
    "papermill": {
     "duration": 0.036663,
     "end_time": "2023-12-27T11:09:36.392602",
     "exception": false,
     "start_time": "2023-12-27T11:09:36.355939",
     "status": "completed"
    },
    "tags": []
   },
   "outputs": [],
   "source": [
    "labels_f = np.array(labels)\n",
    "np.save('/kaggle/working/labels.npy', labels_f)"
   ]
  },
  {
   "cell_type": "markdown",
   "id": "15718dda",
   "metadata": {
    "papermill": {
     "duration": 0.01498,
     "end_time": "2023-12-27T11:09:36.422947",
     "exception": false,
     "start_time": "2023-12-27T11:09:36.407967",
     "status": "completed"
    },
    "tags": []
   },
   "source": [
    "## Splitting the dataset into training and test datasets"
   ]
  },
  {
   "cell_type": "code",
   "execution_count": 15,
   "id": "9f61cfc9",
   "metadata": {
    "execution": {
     "iopub.execute_input": "2023-12-27T11:09:36.455129Z",
     "iopub.status.busy": "2023-12-27T11:09:36.454527Z",
     "iopub.status.idle": "2023-12-27T11:09:37.478215Z",
     "shell.execute_reply": "2023-12-27T11:09:37.477388Z"
    },
    "papermill": {
     "duration": 1.042456,
     "end_time": "2023-12-27T11:09:37.480543",
     "exception": false,
     "start_time": "2023-12-27T11:09:36.438087",
     "status": "completed"
    },
    "tags": []
   },
   "outputs": [],
   "source": [
    "from sklearn.model_selection import train_test_split\n",
    "\n",
    "X_train, X_test, y_train, y_test = train_test_split(images_f2, labels_f, test_size = 0.25, random_state = 42)"
   ]
  },
  {
   "cell_type": "code",
   "execution_count": 16,
   "id": "ad68d2ec",
   "metadata": {
    "execution": {
     "iopub.execute_input": "2023-12-27T11:09:37.513935Z",
     "iopub.status.busy": "2023-12-27T11:09:37.513588Z",
     "iopub.status.idle": "2023-12-27T11:09:37.519925Z",
     "shell.execute_reply": "2023-12-27T11:09:37.519005Z"
    },
    "papermill": {
     "duration": 0.025164,
     "end_time": "2023-12-27T11:09:37.521902",
     "exception": false,
     "start_time": "2023-12-27T11:09:37.496738",
     "status": "completed"
    },
    "tags": []
   },
   "outputs": [
    {
     "data": {
      "text/plain": [
       "array([[ 8,  1],\n",
       "       [47,  0],\n",
       "       [38,  0],\n",
       "       [23,  0],\n",
       "       [32,  1]])"
      ]
     },
     "execution_count": 16,
     "metadata": {},
     "output_type": "execute_result"
    }
   ],
   "source": [
    "y_train[0:5]"
   ]
  },
  {
   "cell_type": "markdown",
   "id": "e9206def",
   "metadata": {
    "papermill": {
     "duration": 0.015218,
     "end_time": "2023-12-27T11:09:37.552573",
     "exception": false,
     "start_time": "2023-12-27T11:09:37.537355",
     "status": "completed"
    },
    "tags": []
   },
   "source": [
    "**Splitting the 'y_train' and 'y_test' into further for better understanding**\n"
   ]
  },
  {
   "cell_type": "markdown",
   "id": "00176a7c",
   "metadata": {
    "papermill": {
     "duration": 0.015104,
     "end_time": "2023-12-27T11:09:37.583117",
     "exception": false,
     "start_time": "2023-12-27T11:09:37.568013",
     "status": "completed"
    },
    "tags": []
   },
   "source": [
    "***For acquiring gender and age seperately***"
   ]
  },
  {
   "cell_type": "code",
   "execution_count": 17,
   "id": "b384f233",
   "metadata": {
    "execution": {
     "iopub.execute_input": "2023-12-27T11:09:37.615678Z",
     "iopub.status.busy": "2023-12-27T11:09:37.614980Z",
     "iopub.status.idle": "2023-12-27T11:09:37.621643Z",
     "shell.execute_reply": "2023-12-27T11:09:37.620770Z"
    },
    "papermill": {
     "duration": 0.025076,
     "end_time": "2023-12-27T11:09:37.623574",
     "exception": false,
     "start_time": "2023-12-27T11:09:37.598498",
     "status": "completed"
    },
    "tags": []
   },
   "outputs": [
    {
     "data": {
      "text/plain": [
       "array([ 8, 47, 38, 23, 32])"
      ]
     },
     "execution_count": 17,
     "metadata": {},
     "output_type": "execute_result"
    }
   ],
   "source": [
    "y_train2 = [y_train[:,1], y_train[:,0]]\n",
    "y_test2 = [y_test[:,1], y_test[:,0]]\n",
    "y_train2[1][0:5]"
   ]
  },
  {
   "cell_type": "markdown",
   "id": "370350ec",
   "metadata": {
    "papermill": {
     "duration": 0.015301,
     "end_time": "2023-12-27T11:09:37.654464",
     "exception": false,
     "start_time": "2023-12-27T11:09:37.639163",
     "status": "completed"
    },
    "tags": []
   },
   "source": [
    "## Defining the Model"
   ]
  },
  {
   "cell_type": "code",
   "execution_count": 18,
   "id": "558adba4",
   "metadata": {
    "execution": {
     "iopub.execute_input": "2023-12-27T11:09:37.686988Z",
     "iopub.status.busy": "2023-12-27T11:09:37.686707Z",
     "iopub.status.idle": "2023-12-27T11:09:37.692099Z",
     "shell.execute_reply": "2023-12-27T11:09:37.691265Z"
    },
    "papermill": {
     "duration": 0.023882,
     "end_time": "2023-12-27T11:09:37.693916",
     "exception": false,
     "start_time": "2023-12-27T11:09:37.670034",
     "status": "completed"
    },
    "tags": []
   },
   "outputs": [],
   "source": [
    "def Convulation(input_tensor, filters, kernel_size):\n",
    "    x = Conv2D(filters = filters, kernel_size = kernel_size, padding = \"same\", strides = (1,1), kernel_regularizer = l2(0.001))(input_tensor)\n",
    "    x = BatchNormalization()(x)\n",
    "    x = Activation(\"relu\")(x)\n",
    "    x = MaxPooling2D(pool_size = (2,2))(x)\n",
    "    x = Dropout(0.25)(x)\n",
    "\n",
    "    return x"
   ]
  },
  {
   "cell_type": "code",
   "execution_count": 19,
   "id": "05efecde",
   "metadata": {
    "execution": {
     "iopub.execute_input": "2023-12-27T11:09:37.726343Z",
     "iopub.status.busy": "2023-12-27T11:09:37.726058Z",
     "iopub.status.idle": "2023-12-27T11:09:37.730773Z",
     "shell.execute_reply": "2023-12-27T11:09:37.729951Z"
    },
    "papermill": {
     "duration": 0.023153,
     "end_time": "2023-12-27T11:09:37.732590",
     "exception": false,
     "start_time": "2023-12-27T11:09:37.709437",
     "status": "completed"
    },
    "tags": []
   },
   "outputs": [],
   "source": [
    "def Dense_f(input_tensor, nodes):\n",
    "    x = Dense(nodes)(input_tensor)\n",
    "    x = BatchNormalization()(x)\n",
    "    x = Activation(\"relu\")(x)\n",
    "    x = Dropout(0.25)(x)\n",
    "\n",
    "    return x"
   ]
  },
  {
   "cell_type": "code",
   "execution_count": 20,
   "id": "a938a694",
   "metadata": {
    "execution": {
     "iopub.execute_input": "2023-12-27T11:09:37.764761Z",
     "iopub.status.busy": "2023-12-27T11:09:37.764488Z",
     "iopub.status.idle": "2023-12-27T11:09:37.772014Z",
     "shell.execute_reply": "2023-12-27T11:09:37.771223Z"
    },
    "papermill": {
     "duration": 0.025749,
     "end_time": "2023-12-27T11:09:37.773845",
     "exception": false,
     "start_time": "2023-12-27T11:09:37.748096",
     "status": "completed"
    },
    "tags": []
   },
   "outputs": [],
   "source": [
    "def model_fer(input_shape):\n",
    "    inputs = Input(input_shape)\n",
    "    conv_1 = Convulation(inputs, 32, (3,3))\n",
    "    conv_2 = Convulation(conv_1, 64, (3,3))\n",
    "    conv_3 = Convulation(conv_2, 128, (3,3))\n",
    "    conv_4 = Convulation(conv_3, 256, (3,3))\n",
    "    conv_5 = Convulation(conv_4, 512, (3,3))\n",
    "\n",
    "    flatten = Flatten()(conv_5)\n",
    "    dense_1 = Dense_f(flatten, 64)\n",
    "    dense_2 = Dense_f(flatten, 64)\n",
    "\n",
    "    output_1 = Dense(1, activation = 'sigmoid', name = 'sex_out')(dense_1)\n",
    "    output_2 = Dense(1, activation = 'relu', name = 'age_out')(dense_2)\n",
    "    model = Model(inputs = [inputs], outputs = [output_1, output_2])\n",
    "    \n",
    "    opt = Adam(lr = 0.01)\n",
    "\n",
    "    model.compile(loss = ['binary_crossentropy', 'mae'], optimizer = opt, metrics = ['accuracy'])\n",
    "    return model"
   ]
  },
  {
   "cell_type": "markdown",
   "id": "c1d7e8ce",
   "metadata": {
    "papermill": {
     "duration": 0.015531,
     "end_time": "2023-12-27T11:09:37.804924",
     "exception": false,
     "start_time": "2023-12-27T11:09:37.789393",
     "status": "completed"
    },
    "tags": []
   },
   "source": [
    "**Summary of the Model**"
   ]
  },
  {
   "cell_type": "code",
   "execution_count": 21,
   "id": "e93c6200",
   "metadata": {
    "execution": {
     "iopub.execute_input": "2023-12-27T11:09:37.837729Z",
     "iopub.status.busy": "2023-12-27T11:09:37.836979Z",
     "iopub.status.idle": "2023-12-27T11:09:41.107994Z",
     "shell.execute_reply": "2023-12-27T11:09:41.107026Z"
    },
    "papermill": {
     "duration": 3.317295,
     "end_time": "2023-12-27T11:09:41.137741",
     "exception": false,
     "start_time": "2023-12-27T11:09:37.820446",
     "status": "completed"
    },
    "tags": []
   },
   "outputs": [
    {
     "name": "stdout",
     "output_type": "stream",
     "text": [
      "Model: \"model\"\n",
      "__________________________________________________________________________________________________\n",
      " Layer (type)                Output Shape                 Param #   Connected to                  \n",
      "==================================================================================================\n",
      " input_1 (InputLayer)        [(None, 48, 48, 3)]          0         []                            \n",
      "                                                                                                  \n",
      " conv2d (Conv2D)             (None, 48, 48, 32)           896       ['input_1[0][0]']             \n",
      "                                                                                                  \n",
      " batch_normalization (Batch  (None, 48, 48, 32)           128       ['conv2d[0][0]']              \n",
      " Normalization)                                                                                   \n",
      "                                                                                                  \n",
      " activation (Activation)     (None, 48, 48, 32)           0         ['batch_normalization[0][0]'] \n",
      "                                                                                                  \n",
      " max_pooling2d (MaxPooling2  (None, 24, 24, 32)           0         ['activation[0][0]']          \n",
      " D)                                                                                               \n",
      "                                                                                                  \n",
      " dropout (Dropout)           (None, 24, 24, 32)           0         ['max_pooling2d[0][0]']       \n",
      "                                                                                                  \n",
      " conv2d_1 (Conv2D)           (None, 24, 24, 64)           18496     ['dropout[0][0]']             \n",
      "                                                                                                  \n",
      " batch_normalization_1 (Bat  (None, 24, 24, 64)           256       ['conv2d_1[0][0]']            \n",
      " chNormalization)                                                                                 \n",
      "                                                                                                  \n",
      " activation_1 (Activation)   (None, 24, 24, 64)           0         ['batch_normalization_1[0][0]'\n",
      "                                                                    ]                             \n",
      "                                                                                                  \n",
      " max_pooling2d_1 (MaxPoolin  (None, 12, 12, 64)           0         ['activation_1[0][0]']        \n",
      " g2D)                                                                                             \n",
      "                                                                                                  \n",
      " dropout_1 (Dropout)         (None, 12, 12, 64)           0         ['max_pooling2d_1[0][0]']     \n",
      "                                                                                                  \n",
      " conv2d_2 (Conv2D)           (None, 12, 12, 128)          73856     ['dropout_1[0][0]']           \n",
      "                                                                                                  \n",
      " batch_normalization_2 (Bat  (None, 12, 12, 128)          512       ['conv2d_2[0][0]']            \n",
      " chNormalization)                                                                                 \n",
      "                                                                                                  \n",
      " activation_2 (Activation)   (None, 12, 12, 128)          0         ['batch_normalization_2[0][0]'\n",
      "                                                                    ]                             \n",
      "                                                                                                  \n",
      " max_pooling2d_2 (MaxPoolin  (None, 6, 6, 128)            0         ['activation_2[0][0]']        \n",
      " g2D)                                                                                             \n",
      "                                                                                                  \n",
      " dropout_2 (Dropout)         (None, 6, 6, 128)            0         ['max_pooling2d_2[0][0]']     \n",
      "                                                                                                  \n",
      " conv2d_3 (Conv2D)           (None, 6, 6, 256)            295168    ['dropout_2[0][0]']           \n",
      "                                                                                                  \n",
      " batch_normalization_3 (Bat  (None, 6, 6, 256)            1024      ['conv2d_3[0][0]']            \n",
      " chNormalization)                                                                                 \n",
      "                                                                                                  \n",
      " activation_3 (Activation)   (None, 6, 6, 256)            0         ['batch_normalization_3[0][0]'\n",
      "                                                                    ]                             \n",
      "                                                                                                  \n",
      " max_pooling2d_3 (MaxPoolin  (None, 3, 3, 256)            0         ['activation_3[0][0]']        \n",
      " g2D)                                                                                             \n",
      "                                                                                                  \n",
      " dropout_3 (Dropout)         (None, 3, 3, 256)            0         ['max_pooling2d_3[0][0]']     \n",
      "                                                                                                  \n",
      " conv2d_4 (Conv2D)           (None, 3, 3, 512)            1180160   ['dropout_3[0][0]']           \n",
      "                                                                                                  \n",
      " batch_normalization_4 (Bat  (None, 3, 3, 512)            2048      ['conv2d_4[0][0]']            \n",
      " chNormalization)                                                                                 \n",
      "                                                                                                  \n",
      " activation_4 (Activation)   (None, 3, 3, 512)            0         ['batch_normalization_4[0][0]'\n",
      "                                                                    ]                             \n",
      "                                                                                                  \n",
      " max_pooling2d_4 (MaxPoolin  (None, 1, 1, 512)            0         ['activation_4[0][0]']        \n",
      " g2D)                                                                                             \n",
      "                                                                                                  \n",
      " dropout_4 (Dropout)         (None, 1, 1, 512)            0         ['max_pooling2d_4[0][0]']     \n",
      "                                                                                                  \n",
      " flatten (Flatten)           (None, 512)                  0         ['dropout_4[0][0]']           \n",
      "                                                                                                  \n",
      " dense (Dense)               (None, 64)                   32832     ['flatten[0][0]']             \n",
      "                                                                                                  \n",
      " dense_1 (Dense)             (None, 64)                   32832     ['flatten[0][0]']             \n",
      "                                                                                                  \n",
      " batch_normalization_5 (Bat  (None, 64)                   256       ['dense[0][0]']               \n",
      " chNormalization)                                                                                 \n",
      "                                                                                                  \n",
      " batch_normalization_6 (Bat  (None, 64)                   256       ['dense_1[0][0]']             \n",
      " chNormalization)                                                                                 \n",
      "                                                                                                  \n",
      " activation_5 (Activation)   (None, 64)                   0         ['batch_normalization_5[0][0]'\n",
      "                                                                    ]                             \n",
      "                                                                                                  \n",
      " activation_6 (Activation)   (None, 64)                   0         ['batch_normalization_6[0][0]'\n",
      "                                                                    ]                             \n",
      "                                                                                                  \n",
      " dropout_5 (Dropout)         (None, 64)                   0         ['activation_5[0][0]']        \n",
      "                                                                                                  \n",
      " dropout_6 (Dropout)         (None, 64)                   0         ['activation_6[0][0]']        \n",
      "                                                                                                  \n",
      " sex_out (Dense)             (None, 1)                    65        ['dropout_5[0][0]']           \n",
      "                                                                                                  \n",
      " age_out (Dense)             (None, 1)                    65        ['dropout_6[0][0]']           \n",
      "                                                                                                  \n",
      "==================================================================================================\n",
      "Total params: 1638850 (6.25 MB)\n",
      "Trainable params: 1636610 (6.24 MB)\n",
      "Non-trainable params: 2240 (8.75 KB)\n",
      "__________________________________________________________________________________________________\n"
     ]
    }
   ],
   "source": [
    "model = model_fer((48, 48, 3))\n",
    "model.summary()"
   ]
  },
  {
   "cell_type": "markdown",
   "id": "a455a789",
   "metadata": {
    "papermill": {
     "duration": 0.023291,
     "end_time": "2023-12-27T11:09:41.185059",
     "exception": false,
     "start_time": "2023-12-27T11:09:41.161768",
     "status": "completed"
    },
    "tags": []
   },
   "source": [
    "## Initializing Model"
   ]
  },
  {
   "cell_type": "code",
   "execution_count": 22,
   "id": "0f29b482",
   "metadata": {
    "execution": {
     "iopub.execute_input": "2023-12-27T11:09:41.236673Z",
     "iopub.status.busy": "2023-12-27T11:09:41.236002Z",
     "iopub.status.idle": "2023-12-27T11:09:41.242830Z",
     "shell.execute_reply": "2023-12-27T11:09:41.241987Z"
    },
    "papermill": {
     "duration": 0.036575,
     "end_time": "2023-12-27T11:09:41.244867",
     "exception": false,
     "start_time": "2023-12-27T11:09:41.208292",
     "status": "completed"
    },
    "tags": []
   },
   "outputs": [],
   "source": [
    "from tensorflow.keras.callbacks import ModelCheckpoint\n",
    "\n",
    "checkpint_path = \"/kaggle/working/model_weights.h5\"\n",
    "checkpoint = ModelCheckpoint(checkpint_path, monitor = \"val_loss\", save_best_only = True, save_weights_only = False, mode = \"auto\", verbose = 1, save_freq ='epoch')\n",
    "Early_stop = tf.keras.callbacks.EarlyStopping(patience = 25, monitor = 'val_loss', restore_best_weights = 'True')\n",
    "callback_list = [checkpoint, Early_stop]"
   ]
  },
  {
   "cell_type": "markdown",
   "id": "69b05aa3",
   "metadata": {
    "papermill": {
     "duration": 0.02427,
     "end_time": "2023-12-27T11:09:41.293678",
     "exception": false,
     "start_time": "2023-12-27T11:09:41.269408",
     "status": "completed"
    },
    "tags": []
   },
   "source": [
    "## Running the Model\n",
    "### Takes some time to run"
   ]
  },
  {
   "cell_type": "code",
   "execution_count": 23,
   "id": "e6456061",
   "metadata": {
    "execution": {
     "iopub.execute_input": "2023-12-27T11:09:41.343019Z",
     "iopub.status.busy": "2023-12-27T11:09:41.342705Z",
     "iopub.status.idle": "2023-12-27T11:16:58.704554Z",
     "shell.execute_reply": "2023-12-27T11:16:58.703721Z"
    },
    "papermill": {
     "duration": 437.389494,
     "end_time": "2023-12-27T11:16:58.706584",
     "exception": false,
     "start_time": "2023-12-27T11:09:41.317090",
     "status": "completed"
    },
    "tags": []
   },
   "outputs": [
    {
     "name": "stdout",
     "output_type": "stream",
     "text": [
      "Epoch 1/250\n"
     ]
    },
    {
     "name": "stderr",
     "output_type": "stream",
     "text": [
      "2023-12-27 11:09:45.467422: E tensorflow/core/grappler/optimizers/meta_optimizer.cc:954] layout failed: INVALID_ARGUMENT: Size of values 0 does not match size of permutation 4 @ fanin shape inmodel/dropout/dropout/SelectV2-2-TransposeNHWCToNCHW-LayoutOptimizer\n"
     ]
    },
    {
     "name": "stdout",
     "output_type": "stream",
     "text": [
      "278/278 [==============================] - ETA: 0s - loss: 28.4606 - sex_out_loss: 0.5568 - age_out_loss: 27.2848 - sex_out_accuracy: 0.7123 - age_out_accuracy: 0.0074\n",
      "Epoch 1: val_loss improved from inf to 32.93723, saving model to /kaggle/working/model_weights.h5\n",
      "278/278 [==============================] - 17s 19ms/step - loss: 28.4606 - sex_out_loss: 0.5568 - age_out_loss: 27.2848 - sex_out_accuracy: 0.7123 - age_out_accuracy: 0.0074 - val_loss: 32.9372 - val_sex_out_loss: 0.6514 - val_age_out_loss: 31.6891 - val_sex_out_accuracy: 0.5715 - val_age_out_accuracy: 5.0616e-04\n",
      "Epoch 2/250\n",
      "  1/278 [..............................] - ETA: 4s - loss: 23.6005 - sex_out_loss: 0.4007 - age_out_loss: 22.6031 - sex_out_accuracy: 0.8281 - age_out_accuracy: 0.0000e+00"
     ]
    },
    {
     "name": "stderr",
     "output_type": "stream",
     "text": [
      "/opt/conda/lib/python3.10/site-packages/keras/src/engine/training.py:3000: UserWarning: You are saving your model as an HDF5 file via `model.save()`. This file format is considered legacy. We recommend using instead the native Keras format, e.g. `model.save('my_model.keras')`.\n",
      "  saving_api.save_model(\n"
     ]
    },
    {
     "name": "stdout",
     "output_type": "stream",
     "text": [
      "275/278 [============================>.] - ETA: 0s - loss: 16.7402 - sex_out_loss: 0.4603 - age_out_loss: 15.5522 - sex_out_accuracy: 0.7813 - age_out_accuracy: 0.0189\n",
      "Epoch 2: val_loss improved from 32.93723 to 19.19083, saving model to /kaggle/working/model_weights.h5\n",
      "278/278 [==============================] - 4s 14ms/step - loss: 16.7190 - sex_out_loss: 0.4611 - age_out_loss: 15.5291 - sex_out_accuracy: 0.7803 - age_out_accuracy: 0.0189 - val_loss: 19.1908 - val_sex_out_loss: 0.4966 - val_age_out_loss: 17.8456 - val_sex_out_accuracy: 0.7528 - val_age_out_accuracy: 0.0471\n",
      "Epoch 3/250\n",
      "275/278 [============================>.] - ETA: 0s - loss: 11.2076 - sex_out_loss: 0.4424 - age_out_loss: 9.8221 - sex_out_accuracy: 0.7915 - age_out_accuracy: 0.0462\n",
      "Epoch 3: val_loss improved from 19.19083 to 12.15326, saving model to /kaggle/working/model_weights.h5\n",
      "278/278 [==============================] - 4s 14ms/step - loss: 11.2027 - sex_out_loss: 0.4422 - age_out_loss: 9.8166 - sex_out_accuracy: 0.7917 - age_out_accuracy: 0.0462 - val_loss: 12.1533 - val_sex_out_loss: 0.3910 - val_age_out_loss: 10.7383 - val_sex_out_accuracy: 0.8326 - val_age_out_accuracy: 0.0471\n",
      "Epoch 4/250\n",
      "277/278 [============================>.] - ETA: 0s - loss: 10.4774 - sex_out_loss: 0.4147 - age_out_loss: 8.9860 - sex_out_accuracy: 0.8024 - age_out_accuracy: 0.0475\n",
      "Epoch 4: val_loss improved from 12.15326 to 11.24942, saving model to /kaggle/working/model_weights.h5\n",
      "278/278 [==============================] - 4s 14ms/step - loss: 10.4749 - sex_out_loss: 0.4147 - age_out_loss: 8.9835 - sex_out_accuracy: 0.8024 - age_out_accuracy: 0.0475 - val_loss: 11.2494 - val_sex_out_loss: 0.3855 - val_age_out_loss: 9.7565 - val_sex_out_accuracy: 0.8250 - val_age_out_accuracy: 0.0471\n",
      "Epoch 5/250\n",
      "278/278 [==============================] - ETA: 0s - loss: 10.1259 - sex_out_loss: 0.3998 - age_out_loss: 8.5935 - sex_out_accuracy: 0.8151 - age_out_accuracy: 0.0475\n",
      "Epoch 5: val_loss improved from 11.24942 to 9.25958, saving model to /kaggle/working/model_weights.h5\n",
      "278/278 [==============================] - 4s 15ms/step - loss: 10.1259 - sex_out_loss: 0.3998 - age_out_loss: 8.5935 - sex_out_accuracy: 0.8151 - age_out_accuracy: 0.0475 - val_loss: 9.2596 - val_sex_out_loss: 0.3560 - val_age_out_loss: 7.7394 - val_sex_out_accuracy: 0.8387 - val_age_out_accuracy: 0.0471\n",
      "Epoch 6/250\n",
      "278/278 [==============================] - ETA: 0s - loss: 9.7851 - sex_out_loss: 0.3859 - age_out_loss: 8.2114 - sex_out_accuracy: 0.8213 - age_out_accuracy: 0.0475\n",
      "Epoch 6: val_loss improved from 9.25958 to 8.77065, saving model to /kaggle/working/model_weights.h5\n",
      "278/278 [==============================] - 4s 14ms/step - loss: 9.7851 - sex_out_loss: 0.3859 - age_out_loss: 8.2114 - sex_out_accuracy: 0.8213 - age_out_accuracy: 0.0475 - val_loss: 8.7706 - val_sex_out_loss: 0.3542 - val_age_out_loss: 7.2117 - val_sex_out_accuracy: 0.8372 - val_age_out_accuracy: 0.0471\n",
      "Epoch 7/250\n",
      "276/278 [============================>.] - ETA: 0s - loss: 9.6072 - sex_out_loss: 0.3709 - age_out_loss: 8.0245 - sex_out_accuracy: 0.8285 - age_out_accuracy: 0.0473\n",
      "Epoch 7: val_loss did not improve from 8.77065\n",
      "278/278 [==============================] - 4s 14ms/step - loss: 9.6108 - sex_out_loss: 0.3704 - age_out_loss: 8.0284 - sex_out_accuracy: 0.8290 - age_out_accuracy: 0.0475 - val_loss: 20.7250 - val_sex_out_loss: 0.3580 - val_age_out_loss: 19.1410 - val_sex_out_accuracy: 0.8584 - val_age_out_accuracy: 0.0471\n",
      "Epoch 8/250\n",
      "275/278 [============================>.] - ETA: 0s - loss: 9.4794 - sex_out_loss: 0.3603 - age_out_loss: 7.8776 - sex_out_accuracy: 0.8343 - age_out_accuracy: 0.0476\n",
      "Epoch 8: val_loss did not improve from 8.77065\n",
      "278/278 [==============================] - 4s 14ms/step - loss: 9.4822 - sex_out_loss: 0.3601 - age_out_loss: 7.8806 - sex_out_accuracy: 0.8341 - age_out_accuracy: 0.0475 - val_loss: 14.9010 - val_sex_out_loss: 0.3756 - val_age_out_loss: 13.2795 - val_sex_out_accuracy: 0.8336 - val_age_out_accuracy: 0.0471\n",
      "Epoch 9/250\n",
      "276/278 [============================>.] - ETA: 0s - loss: 9.3548 - sex_out_loss: 0.3543 - age_out_loss: 7.7398 - sex_out_accuracy: 0.8378 - age_out_accuracy: 0.0474\n",
      "Epoch 9: val_loss improved from 8.77065 to 8.37954, saving model to /kaggle/working/model_weights.h5\n",
      "278/278 [==============================] - 4s 14ms/step - loss: 9.3510 - sex_out_loss: 0.3537 - age_out_loss: 7.7365 - sex_out_accuracy: 0.8383 - age_out_accuracy: 0.0475 - val_loss: 8.3795 - val_sex_out_loss: 0.2872 - val_age_out_loss: 6.8215 - val_sex_out_accuracy: 0.8704 - val_age_out_accuracy: 0.0471\n",
      "Epoch 10/250\n",
      "275/278 [============================>.] - ETA: 0s - loss: 9.1827 - sex_out_loss: 0.3447 - age_out_loss: 7.5620 - sex_out_accuracy: 0.8426 - age_out_accuracy: 0.0475\n",
      "Epoch 10: val_loss did not improve from 8.37954\n",
      "278/278 [==============================] - 4s 14ms/step - loss: 9.1778 - sex_out_loss: 0.3453 - age_out_loss: 7.5565 - sex_out_accuracy: 0.8425 - age_out_accuracy: 0.0475 - val_loss: 11.0314 - val_sex_out_loss: 0.3449 - val_age_out_loss: 9.4056 - val_sex_out_accuracy: 0.8358 - val_age_out_accuracy: 0.0471\n",
      "Epoch 11/250\n",
      "276/278 [============================>.] - ETA: 0s - loss: 9.1733 - sex_out_loss: 0.3419 - age_out_loss: 7.5456 - sex_out_accuracy: 0.8427 - age_out_accuracy: 0.0472\n",
      "Epoch 11: val_loss did not improve from 8.37954\n",
      "278/278 [==============================] - 4s 14ms/step - loss: 9.1766 - sex_out_loss: 0.3418 - age_out_loss: 7.5491 - sex_out_accuracy: 0.8429 - age_out_accuracy: 0.0475 - val_loss: 20.3328 - val_sex_out_loss: 0.3406 - val_age_out_loss: 18.7106 - val_sex_out_accuracy: 0.8804 - val_age_out_accuracy: 0.0471\n",
      "Epoch 12/250\n",
      "277/278 [============================>.] - ETA: 0s - loss: 9.0358 - sex_out_loss: 0.3298 - age_out_loss: 7.4088 - sex_out_accuracy: 0.8471 - age_out_accuracy: 0.0474\n",
      "Epoch 12: val_loss did not improve from 8.37954\n",
      "278/278 [==============================] - 4s 14ms/step - loss: 9.0337 - sex_out_loss: 0.3295 - age_out_loss: 7.4071 - sex_out_accuracy: 0.8473 - age_out_accuracy: 0.0475 - val_loss: 15.3637 - val_sex_out_loss: 0.3112 - val_age_out_loss: 13.7468 - val_sex_out_accuracy: 0.8625 - val_age_out_accuracy: 0.0471\n",
      "Epoch 13/250\n",
      "276/278 [============================>.] - ETA: 0s - loss: 8.9475 - sex_out_loss: 0.3283 - age_out_loss: 7.3112 - sex_out_accuracy: 0.8505 - age_out_accuracy: 0.0475\n",
      "Epoch 13: val_loss did not improve from 8.37954\n",
      "278/278 [==============================] - 4s 14ms/step - loss: 8.9430 - sex_out_loss: 0.3291 - age_out_loss: 7.3058 - sex_out_accuracy: 0.8505 - age_out_accuracy: 0.0475 - val_loss: 8.5133 - val_sex_out_loss: 0.2679 - val_age_out_loss: 6.9293 - val_sex_out_accuracy: 0.8834 - val_age_out_accuracy: 0.0471\n",
      "Epoch 14/250\n",
      "277/278 [============================>.] - ETA: 0s - loss: 8.8571 - sex_out_loss: 0.3259 - age_out_loss: 7.2061 - sex_out_accuracy: 0.8520 - age_out_accuracy: 0.0474\n",
      "Epoch 14: val_loss did not improve from 8.37954\n",
      "278/278 [==============================] - 4s 14ms/step - loss: 8.8630 - sex_out_loss: 0.3259 - age_out_loss: 7.2120 - sex_out_accuracy: 0.8520 - age_out_accuracy: 0.0475 - val_loss: 8.4563 - val_sex_out_loss: 0.3397 - val_age_out_loss: 6.7856 - val_sex_out_accuracy: 0.8293 - val_age_out_accuracy: 0.0471\n",
      "Epoch 15/250\n",
      "275/278 [============================>.] - ETA: 0s - loss: 8.8693 - sex_out_loss: 0.3249 - age_out_loss: 7.1973 - sex_out_accuracy: 0.8552 - age_out_accuracy: 0.0476\n",
      "Epoch 15: val_loss did not improve from 8.37954\n",
      "278/278 [==============================] - 4s 14ms/step - loss: 8.8612 - sex_out_loss: 0.3245 - age_out_loss: 7.1895 - sex_out_accuracy: 0.8556 - age_out_accuracy: 0.0475 - val_loss: 10.0752 - val_sex_out_loss: 0.2595 - val_age_out_loss: 8.4647 - val_sex_out_accuracy: 0.8863 - val_age_out_accuracy: 0.0471\n",
      "Epoch 16/250\n",
      "275/278 [============================>.] - ETA: 0s - loss: 8.8147 - sex_out_loss: 0.3140 - age_out_loss: 7.1468 - sex_out_accuracy: 0.8568 - age_out_accuracy: 0.0475\n",
      "Epoch 16: val_loss did not improve from 8.37954\n",
      "278/278 [==============================] - 4s 14ms/step - loss: 8.8051 - sex_out_loss: 0.3142 - age_out_loss: 7.1370 - sex_out_accuracy: 0.8566 - age_out_accuracy: 0.0475 - val_loss: 20.3491 - val_sex_out_loss: 0.2916 - val_age_out_loss: 18.7020 - val_sex_out_accuracy: 0.8731 - val_age_out_accuracy: 0.0471\n",
      "Epoch 17/250\n",
      "275/278 [============================>.] - ETA: 0s - loss: 8.7506 - sex_out_loss: 0.3143 - age_out_loss: 7.0793 - sex_out_accuracy: 0.8585 - age_out_accuracy: 0.0475\n",
      "Epoch 17: val_loss did not improve from 8.37954\n",
      "278/278 [==============================] - 4s 14ms/step - loss: 8.7552 - sex_out_loss: 0.3148 - age_out_loss: 7.0833 - sex_out_accuracy: 0.8583 - age_out_accuracy: 0.0475 - val_loss: 8.7523 - val_sex_out_loss: 0.2939 - val_age_out_loss: 7.1028 - val_sex_out_accuracy: 0.8716 - val_age_out_accuracy: 0.0471\n",
      "Epoch 18/250\n",
      "277/278 [============================>.] - ETA: 0s - loss: 8.6866 - sex_out_loss: 0.3073 - age_out_loss: 7.0196 - sex_out_accuracy: 0.8619 - age_out_accuracy: 0.0475\n",
      "Epoch 18: val_loss did not improve from 8.37954\n",
      "278/278 [==============================] - 4s 14ms/step - loss: 8.6873 - sex_out_loss: 0.3073 - age_out_loss: 7.0203 - sex_out_accuracy: 0.8618 - age_out_accuracy: 0.0475 - val_loss: 10.1741 - val_sex_out_loss: 0.2684 - val_age_out_loss: 8.5393 - val_sex_out_accuracy: 0.8800 - val_age_out_accuracy: 0.0471\n",
      "Epoch 19/250\n",
      "275/278 [============================>.] - ETA: 0s - loss: 8.6196 - sex_out_loss: 0.3111 - age_out_loss: 6.9269 - sex_out_accuracy: 0.8607 - age_out_accuracy: 0.0472\n",
      "Epoch 19: val_loss did not improve from 8.37954\n",
      "278/278 [==============================] - 4s 14ms/step - loss: 8.6093 - sex_out_loss: 0.3113 - age_out_loss: 6.9165 - sex_out_accuracy: 0.8603 - age_out_accuracy: 0.0475 - val_loss: 9.3781 - val_sex_out_loss: 0.2520 - val_age_out_loss: 7.7423 - val_sex_out_accuracy: 0.8903 - val_age_out_accuracy: 0.0471\n",
      "Epoch 20/250\n",
      "274/278 [============================>.] - ETA: 0s - loss: 8.5237 - sex_out_loss: 0.3033 - age_out_loss: 6.8261 - sex_out_accuracy: 0.8653 - age_out_accuracy: 0.0475\n",
      "Epoch 20: val_loss did not improve from 8.37954\n",
      "278/278 [==============================] - 4s 14ms/step - loss: 8.5212 - sex_out_loss: 0.3029 - age_out_loss: 6.8239 - sex_out_accuracy: 0.8653 - age_out_accuracy: 0.0475 - val_loss: 12.9541 - val_sex_out_loss: 0.2692 - val_age_out_loss: 11.2809 - val_sex_out_accuracy: 0.8900 - val_age_out_accuracy: 0.0471\n",
      "Epoch 21/250\n",
      "277/278 [============================>.] - ETA: 0s - loss: 8.5920 - sex_out_loss: 0.3027 - age_out_loss: 6.8816 - sex_out_accuracy: 0.8655 - age_out_accuracy: 0.0476\n",
      "Epoch 21: val_loss improved from 8.37954 to 7.58325, saving model to /kaggle/working/model_weights.h5\n",
      "278/278 [==============================] - 4s 15ms/step - loss: 8.6078 - sex_out_loss: 0.3030 - age_out_loss: 6.8970 - sex_out_accuracy: 0.8653 - age_out_accuracy: 0.0475 - val_loss: 7.5833 - val_sex_out_loss: 0.2419 - val_age_out_loss: 5.9269 - val_sex_out_accuracy: 0.8944 - val_age_out_accuracy: 0.0471\n",
      "Epoch 22/250\n",
      "278/278 [==============================] - ETA: 0s - loss: 8.5813 - sex_out_loss: 0.2986 - age_out_loss: 6.8564 - sex_out_accuracy: 0.8692 - age_out_accuracy: 0.0475\n",
      "Epoch 22: val_loss did not improve from 7.58325\n",
      "278/278 [==============================] - 4s 14ms/step - loss: 8.5813 - sex_out_loss: 0.2986 - age_out_loss: 6.8564 - sex_out_accuracy: 0.8692 - age_out_accuracy: 0.0475 - val_loss: 10.3612 - val_sex_out_loss: 0.3058 - val_age_out_loss: 8.6215 - val_sex_out_accuracy: 0.8591 - val_age_out_accuracy: 0.0471\n",
      "Epoch 23/250\n",
      "276/278 [============================>.] - ETA: 0s - loss: 8.5917 - sex_out_loss: 0.2962 - age_out_loss: 6.8566 - sex_out_accuracy: 0.8691 - age_out_accuracy: 0.0475\n",
      "Epoch 23: val_loss did not improve from 7.58325\n",
      "278/278 [==============================] - 4s 14ms/step - loss: 8.5890 - sex_out_loss: 0.2963 - age_out_loss: 6.8539 - sex_out_accuracy: 0.8690 - age_out_accuracy: 0.0475 - val_loss: 10.0535 - val_sex_out_loss: 0.2620 - val_age_out_loss: 8.3455 - val_sex_out_accuracy: 0.8799 - val_age_out_accuracy: 0.0471\n",
      "Epoch 24/250\n",
      "274/278 [============================>.] - ETA: 0s - loss: 8.5406 - sex_out_loss: 0.2950 - age_out_loss: 6.7965 - sex_out_accuracy: 0.8692 - age_out_accuracy: 0.0471\n",
      "Epoch 24: val_loss did not improve from 7.58325\n",
      "278/278 [==============================] - 4s 14ms/step - loss: 8.5389 - sex_out_loss: 0.2959 - age_out_loss: 6.7939 - sex_out_accuracy: 0.8685 - age_out_accuracy: 0.0475 - val_loss: 8.1114 - val_sex_out_loss: 0.2614 - val_age_out_loss: 6.3980 - val_sex_out_accuracy: 0.8797 - val_age_out_accuracy: 0.0471\n",
      "Epoch 25/250\n",
      "274/278 [============================>.] - ETA: 0s - loss: 8.4235 - sex_out_loss: 0.2958 - age_out_loss: 6.6726 - sex_out_accuracy: 0.8688 - age_out_accuracy: 0.0475\n",
      "Epoch 25: val_loss did not improve from 7.58325\n",
      "278/278 [==============================] - 4s 14ms/step - loss: 8.4263 - sex_out_loss: 0.2955 - age_out_loss: 6.6757 - sex_out_accuracy: 0.8688 - age_out_accuracy: 0.0475 - val_loss: 9.7863 - val_sex_out_loss: 0.2519 - val_age_out_loss: 8.0814 - val_sex_out_accuracy: 0.8897 - val_age_out_accuracy: 0.0471\n",
      "Epoch 26/250\n",
      "274/278 [============================>.] - ETA: 0s - loss: 8.3757 - sex_out_loss: 0.2929 - age_out_loss: 6.6254 - sex_out_accuracy: 0.8706 - age_out_accuracy: 0.0477\n",
      "Epoch 26: val_loss did not improve from 7.58325\n",
      "278/278 [==============================] - 4s 14ms/step - loss: 8.3724 - sex_out_loss: 0.2930 - age_out_loss: 6.6220 - sex_out_accuracy: 0.8703 - age_out_accuracy: 0.0475 - val_loss: 8.4449 - val_sex_out_loss: 0.2509 - val_age_out_loss: 6.7369 - val_sex_out_accuracy: 0.8856 - val_age_out_accuracy: 0.0471\n",
      "Epoch 27/250\n",
      "276/278 [============================>.] - ETA: 0s - loss: 8.3904 - sex_out_loss: 0.2849 - age_out_loss: 6.6476 - sex_out_accuracy: 0.8723 - age_out_accuracy: 0.0476\n",
      "Epoch 27: val_loss did not improve from 7.58325\n",
      "278/278 [==============================] - 4s 14ms/step - loss: 8.3883 - sex_out_loss: 0.2860 - age_out_loss: 6.6444 - sex_out_accuracy: 0.8718 - age_out_accuracy: 0.0475 - val_loss: 9.3443 - val_sex_out_loss: 0.2468 - val_age_out_loss: 7.6381 - val_sex_out_accuracy: 0.8949 - val_age_out_accuracy: 0.0471\n",
      "Epoch 28/250\n",
      "275/278 [============================>.] - ETA: 0s - loss: 8.4023 - sex_out_loss: 0.2850 - age_out_loss: 6.6582 - sex_out_accuracy: 0.8716 - age_out_accuracy: 0.0476\n",
      "Epoch 28: val_loss did not improve from 7.58325\n",
      "278/278 [==============================] - 4s 14ms/step - loss: 8.4038 - sex_out_loss: 0.2849 - age_out_loss: 6.6598 - sex_out_accuracy: 0.8717 - age_out_accuracy: 0.0475 - val_loss: 9.2363 - val_sex_out_loss: 0.2492 - val_age_out_loss: 7.5223 - val_sex_out_accuracy: 0.8910 - val_age_out_accuracy: 0.0471\n",
      "Epoch 29/250\n",
      "275/278 [============================>.] - ETA: 0s - loss: 8.2841 - sex_out_loss: 0.2838 - age_out_loss: 6.5202 - sex_out_accuracy: 0.8748 - age_out_accuracy: 0.0473\n",
      "Epoch 29: val_loss did not improve from 7.58325\n",
      "278/278 [==============================] - 4s 14ms/step - loss: 8.2835 - sex_out_loss: 0.2847 - age_out_loss: 6.5185 - sex_out_accuracy: 0.8744 - age_out_accuracy: 0.0475 - val_loss: 10.0421 - val_sex_out_loss: 0.2392 - val_age_out_loss: 8.3061 - val_sex_out_accuracy: 0.8929 - val_age_out_accuracy: 0.0471\n",
      "Epoch 30/250\n",
      "277/278 [============================>.] - ETA: 0s - loss: 8.2974 - sex_out_loss: 0.2884 - age_out_loss: 6.5059 - sex_out_accuracy: 0.8696 - age_out_accuracy: 0.0474\n",
      "Epoch 30: val_loss did not improve from 7.58325\n",
      "278/278 [==============================] - 4s 14ms/step - loss: 8.2970 - sex_out_loss: 0.2888 - age_out_loss: 6.5052 - sex_out_accuracy: 0.8694 - age_out_accuracy: 0.0475 - val_loss: 8.6541 - val_sex_out_loss: 0.2592 - val_age_out_loss: 6.8988 - val_sex_out_accuracy: 0.8795 - val_age_out_accuracy: 0.0471\n",
      "Epoch 31/250\n",
      "277/278 [============================>.] - ETA: 0s - loss: 8.3036 - sex_out_loss: 0.2812 - age_out_loss: 6.5191 - sex_out_accuracy: 0.8746 - age_out_accuracy: 0.0475\n",
      "Epoch 31: val_loss did not improve from 7.58325\n",
      "278/278 [==============================] - 4s 14ms/step - loss: 8.2999 - sex_out_loss: 0.2808 - age_out_loss: 6.5157 - sex_out_accuracy: 0.8749 - age_out_accuracy: 0.0475 - val_loss: 7.8024 - val_sex_out_loss: 0.2387 - val_age_out_loss: 6.0510 - val_sex_out_accuracy: 0.8946 - val_age_out_accuracy: 0.0471\n",
      "Epoch 32/250\n",
      "276/278 [============================>.] - ETA: 0s - loss: 8.2773 - sex_out_loss: 0.2791 - age_out_loss: 6.4904 - sex_out_accuracy: 0.8761 - age_out_accuracy: 0.0474\n",
      "Epoch 32: val_loss did not improve from 7.58325\n",
      "278/278 [==============================] - 4s 14ms/step - loss: 8.2720 - sex_out_loss: 0.2793 - age_out_loss: 6.4850 - sex_out_accuracy: 0.8757 - age_out_accuracy: 0.0475 - val_loss: 11.0417 - val_sex_out_loss: 0.2460 - val_age_out_loss: 9.2938 - val_sex_out_accuracy: 0.8939 - val_age_out_accuracy: 0.0471\n",
      "Epoch 33/250\n",
      "276/278 [============================>.] - ETA: 0s - loss: 8.2271 - sex_out_loss: 0.2783 - age_out_loss: 6.4434 - sex_out_accuracy: 0.8749 - age_out_accuracy: 0.0472\n",
      "Epoch 33: val_loss did not improve from 7.58325\n",
      "278/278 [==============================] - 4s 14ms/step - loss: 8.2258 - sex_out_loss: 0.2782 - age_out_loss: 6.4421 - sex_out_accuracy: 0.8748 - age_out_accuracy: 0.0475 - val_loss: 10.5393 - val_sex_out_loss: 0.2500 - val_age_out_loss: 8.7707 - val_sex_out_accuracy: 0.8900 - val_age_out_accuracy: 0.0471\n",
      "Epoch 34/250\n",
      "278/278 [==============================] - ETA: 0s - loss: 8.1540 - sex_out_loss: 0.2748 - age_out_loss: 6.3562 - sex_out_accuracy: 0.8791 - age_out_accuracy: 0.0475\n",
      "Epoch 34: val_loss did not improve from 7.58325\n",
      "278/278 [==============================] - 4s 14ms/step - loss: 8.1540 - sex_out_loss: 0.2748 - age_out_loss: 6.3562 - sex_out_accuracy: 0.8791 - age_out_accuracy: 0.0475 - val_loss: 7.8350 - val_sex_out_loss: 0.2766 - val_age_out_loss: 6.0322 - val_sex_out_accuracy: 0.8669 - val_age_out_accuracy: 0.0471\n",
      "Epoch 35/250\n",
      "278/278 [==============================] - ETA: 0s - loss: 8.2629 - sex_out_loss: 0.2808 - age_out_loss: 6.4534 - sex_out_accuracy: 0.8772 - age_out_accuracy: 0.0475\n",
      "Epoch 35: val_loss did not improve from 7.58325\n",
      "278/278 [==============================] - 4s 14ms/step - loss: 8.2629 - sex_out_loss: 0.2808 - age_out_loss: 6.4534 - sex_out_accuracy: 0.8772 - age_out_accuracy: 0.0475 - val_loss: 11.7581 - val_sex_out_loss: 0.2667 - val_age_out_loss: 9.9637 - val_sex_out_accuracy: 0.8802 - val_age_out_accuracy: 0.0471\n",
      "Epoch 36/250\n",
      "275/278 [============================>.] - ETA: 0s - loss: 8.1651 - sex_out_loss: 0.2738 - age_out_loss: 6.3641 - sex_out_accuracy: 0.8789 - age_out_accuracy: 0.0472\n",
      "Epoch 36: val_loss did not improve from 7.58325\n",
      "278/278 [==============================] - 4s 14ms/step - loss: 8.1658 - sex_out_loss: 0.2734 - age_out_loss: 6.3651 - sex_out_accuracy: 0.8790 - age_out_accuracy: 0.0474 - val_loss: 10.5274 - val_sex_out_loss: 0.2565 - val_age_out_loss: 8.7331 - val_sex_out_accuracy: 0.8868 - val_age_out_accuracy: 0.0471\n",
      "Epoch 37/250\n",
      "276/278 [============================>.] - ETA: 0s - loss: 8.1848 - sex_out_loss: 0.2726 - age_out_loss: 6.3723 - sex_out_accuracy: 0.8785 - age_out_accuracy: 0.0474\n",
      "Epoch 37: val_loss did not improve from 7.58325\n",
      "278/278 [==============================] - 4s 14ms/step - loss: 8.1908 - sex_out_loss: 0.2736 - age_out_loss: 6.3774 - sex_out_accuracy: 0.8779 - age_out_accuracy: 0.0475 - val_loss: 7.6410 - val_sex_out_loss: 0.2499 - val_age_out_loss: 5.8519 - val_sex_out_accuracy: 0.8892 - val_age_out_accuracy: 0.0471\n",
      "Epoch 38/250\n",
      "277/278 [============================>.] - ETA: 0s - loss: 8.2384 - sex_out_loss: 0.2768 - age_out_loss: 6.4153 - sex_out_accuracy: 0.8742 - age_out_accuracy: 0.0476\n",
      "Epoch 38: val_loss improved from 7.58325 to 7.56412, saving model to /kaggle/working/model_weights.h5\n",
      "278/278 [==============================] - 4s 15ms/step - loss: 8.2396 - sex_out_loss: 0.2765 - age_out_loss: 6.4167 - sex_out_accuracy: 0.8742 - age_out_accuracy: 0.0475 - val_loss: 7.5641 - val_sex_out_loss: 0.2335 - val_age_out_loss: 5.7828 - val_sex_out_accuracy: 0.8946 - val_age_out_accuracy: 0.0471\n",
      "Epoch 39/250\n",
      "278/278 [==============================] - ETA: 0s - loss: 8.1756 - sex_out_loss: 0.2773 - age_out_loss: 6.3449 - sex_out_accuracy: 0.8756 - age_out_accuracy: 0.0474\n",
      "Epoch 39: val_loss did not improve from 7.56412\n",
      "278/278 [==============================] - 4s 14ms/step - loss: 8.1756 - sex_out_loss: 0.2773 - age_out_loss: 6.3449 - sex_out_accuracy: 0.8756 - age_out_accuracy: 0.0474 - val_loss: 7.7258 - val_sex_out_loss: 0.2450 - val_age_out_loss: 5.9243 - val_sex_out_accuracy: 0.8919 - val_age_out_accuracy: 0.0471\n",
      "Epoch 40/250\n",
      "276/278 [============================>.] - ETA: 0s - loss: 8.0938 - sex_out_loss: 0.2723 - age_out_loss: 6.2621 - sex_out_accuracy: 0.8782 - age_out_accuracy: 0.0476\n",
      "Epoch 40: val_loss did not improve from 7.56412\n",
      "278/278 [==============================] - 4s 14ms/step - loss: 8.1128 - sex_out_loss: 0.2727 - age_out_loss: 6.2806 - sex_out_accuracy: 0.8779 - age_out_accuracy: 0.0475 - val_loss: 11.0066 - val_sex_out_loss: 0.2537 - val_age_out_loss: 9.1816 - val_sex_out_accuracy: 0.8892 - val_age_out_accuracy: 0.0471\n",
      "Epoch 41/250\n",
      "277/278 [============================>.] - ETA: 0s - loss: 8.1847 - sex_out_loss: 0.2766 - age_out_loss: 6.3378 - sex_out_accuracy: 0.8775 - age_out_accuracy: 0.0474\n",
      "Epoch 41: val_loss did not improve from 7.56412\n",
      "278/278 [==============================] - 4s 14ms/step - loss: 8.1849 - sex_out_loss: 0.2765 - age_out_loss: 6.3382 - sex_out_accuracy: 0.8775 - age_out_accuracy: 0.0475 - val_loss: 7.9002 - val_sex_out_loss: 0.2425 - val_age_out_loss: 6.0888 - val_sex_out_accuracy: 0.8895 - val_age_out_accuracy: 0.0471\n",
      "Epoch 42/250\n",
      "275/278 [============================>.] - ETA: 0s - loss: 8.1736 - sex_out_loss: 0.2740 - age_out_loss: 6.3267 - sex_out_accuracy: 0.8761 - age_out_accuracy: 0.0472\n",
      "Epoch 42: val_loss did not improve from 7.56412\n",
      "278/278 [==============================] - 4s 14ms/step - loss: 8.1647 - sex_out_loss: 0.2739 - age_out_loss: 6.3179 - sex_out_accuracy: 0.8762 - age_out_accuracy: 0.0474 - val_loss: 7.7030 - val_sex_out_loss: 0.2613 - val_age_out_loss: 5.8667 - val_sex_out_accuracy: 0.8789 - val_age_out_accuracy: 0.0471\n",
      "Epoch 43/250\n",
      "277/278 [============================>.] - ETA: 0s - loss: 8.0712 - sex_out_loss: 0.2664 - age_out_loss: 6.2276 - sex_out_accuracy: 0.8843 - age_out_accuracy: 0.0476\n",
      "Epoch 43: val_loss did not improve from 7.56412\n",
      "278/278 [==============================] - 4s 14ms/step - loss: 8.0787 - sex_out_loss: 0.2664 - age_out_loss: 6.2351 - sex_out_accuracy: 0.8844 - age_out_accuracy: 0.0475 - val_loss: 16.1649 - val_sex_out_loss: 0.2604 - val_age_out_loss: 14.3250 - val_sex_out_accuracy: 0.8839 - val_age_out_accuracy: 0.0471\n",
      "Epoch 44/250\n",
      "276/278 [============================>.] - ETA: 0s - loss: 7.9874 - sex_out_loss: 0.2671 - age_out_loss: 6.1388 - sex_out_accuracy: 0.8817 - age_out_accuracy: 0.0476\n",
      "Epoch 44: val_loss did not improve from 7.56412\n",
      "278/278 [==============================] - 4s 14ms/step - loss: 7.9927 - sex_out_loss: 0.2672 - age_out_loss: 6.1440 - sex_out_accuracy: 0.8819 - age_out_accuracy: 0.0474 - val_loss: 9.3780 - val_sex_out_loss: 0.2371 - val_age_out_loss: 7.5538 - val_sex_out_accuracy: 0.8964 - val_age_out_accuracy: 0.0471\n",
      "Epoch 45/250\n",
      "276/278 [============================>.] - ETA: 0s - loss: 8.0929 - sex_out_loss: 0.2745 - age_out_loss: 6.2231 - sex_out_accuracy: 0.8752 - age_out_accuracy: 0.0477\n",
      "Epoch 45: val_loss did not improve from 7.56412\n",
      "278/278 [==============================] - 4s 14ms/step - loss: 8.1013 - sex_out_loss: 0.2738 - age_out_loss: 6.2322 - sex_out_accuracy: 0.8757 - age_out_accuracy: 0.0474 - val_loss: 12.8925 - val_sex_out_loss: 0.3667 - val_age_out_loss: 10.9289 - val_sex_out_accuracy: 0.8235 - val_age_out_accuracy: 0.0471\n",
      "Epoch 46/250\n",
      "275/278 [============================>.] - ETA: 0s - loss: 8.0616 - sex_out_loss: 0.2680 - age_out_loss: 6.2001 - sex_out_accuracy: 0.8780 - age_out_accuracy: 0.0474\n",
      "Epoch 46: val_loss did not improve from 7.56412\n",
      "278/278 [==============================] - 4s 14ms/step - loss: 8.0586 - sex_out_loss: 0.2683 - age_out_loss: 6.1968 - sex_out_accuracy: 0.8779 - age_out_accuracy: 0.0475 - val_loss: 10.1757 - val_sex_out_loss: 0.2662 - val_age_out_loss: 8.3113 - val_sex_out_accuracy: 0.8758 - val_age_out_accuracy: 0.0471\n",
      "Epoch 47/250\n",
      "276/278 [============================>.] - ETA: 0s - loss: 8.0800 - sex_out_loss: 0.2695 - age_out_loss: 6.2054 - sex_out_accuracy: 0.8812 - age_out_accuracy: 0.0476\n",
      "Epoch 47: val_loss did not improve from 7.56412\n",
      "278/278 [==============================] - 4s 14ms/step - loss: 8.0797 - sex_out_loss: 0.2698 - age_out_loss: 6.2047 - sex_out_accuracy: 0.8811 - age_out_accuracy: 0.0475 - val_loss: 8.9050 - val_sex_out_loss: 0.2447 - val_age_out_loss: 7.0452 - val_sex_out_accuracy: 0.8853 - val_age_out_accuracy: 0.0471\n",
      "Epoch 48/250\n",
      "274/278 [============================>.] - ETA: 0s - loss: 7.9894 - sex_out_loss: 0.2724 - age_out_loss: 6.1036 - sex_out_accuracy: 0.8788 - age_out_accuracy: 0.0472\n",
      "Epoch 48: val_loss did not improve from 7.56412\n",
      "278/278 [==============================] - 4s 14ms/step - loss: 7.9846 - sex_out_loss: 0.2717 - age_out_loss: 6.0995 - sex_out_accuracy: 0.8792 - age_out_accuracy: 0.0475 - val_loss: 8.6891 - val_sex_out_loss: 0.2261 - val_age_out_loss: 6.8515 - val_sex_out_accuracy: 0.8978 - val_age_out_accuracy: 0.0471\n",
      "Epoch 49/250\n",
      "277/278 [============================>.] - ETA: 0s - loss: 8.0313 - sex_out_loss: 0.2707 - age_out_loss: 6.1458 - sex_out_accuracy: 0.8813 - age_out_accuracy: 0.0475\n",
      "Epoch 49: val_loss did not improve from 7.56412\n",
      "278/278 [==============================] - 4s 14ms/step - loss: 8.0308 - sex_out_loss: 0.2705 - age_out_loss: 6.1455 - sex_out_accuracy: 0.8813 - age_out_accuracy: 0.0474 - val_loss: 8.6496 - val_sex_out_loss: 0.2415 - val_age_out_loss: 6.7973 - val_sex_out_accuracy: 0.8983 - val_age_out_accuracy: 0.0471\n",
      "Epoch 50/250\n",
      "275/278 [============================>.] - ETA: 0s - loss: 7.9793 - sex_out_loss: 0.2677 - age_out_loss: 6.1005 - sex_out_accuracy: 0.8799 - age_out_accuracy: 0.0473\n",
      "Epoch 50: val_loss did not improve from 7.56412\n",
      "278/278 [==============================] - 4s 14ms/step - loss: 7.9741 - sex_out_loss: 0.2671 - age_out_loss: 6.0959 - sex_out_accuracy: 0.8802 - age_out_accuracy: 0.0474 - val_loss: 9.2121 - val_sex_out_loss: 0.2697 - val_age_out_loss: 7.3319 - val_sex_out_accuracy: 0.8797 - val_age_out_accuracy: 0.0471\n",
      "Epoch 51/250\n",
      "278/278 [==============================] - ETA: 0s - loss: 7.9665 - sex_out_loss: 0.2679 - age_out_loss: 6.0827 - sex_out_accuracy: 0.8810 - age_out_accuracy: 0.0474\n",
      "Epoch 51: val_loss did not improve from 7.56412\n",
      "278/278 [==============================] - 4s 14ms/step - loss: 7.9665 - sex_out_loss: 0.2679 - age_out_loss: 6.0827 - sex_out_accuracy: 0.8810 - age_out_accuracy: 0.0474 - val_loss: 11.7837 - val_sex_out_loss: 0.2506 - val_age_out_loss: 9.9150 - val_sex_out_accuracy: 0.8893 - val_age_out_accuracy: 0.0471\n",
      "Epoch 52/250\n",
      "278/278 [==============================] - ETA: 0s - loss: 8.0394 - sex_out_loss: 0.2663 - age_out_loss: 6.1486 - sex_out_accuracy: 0.8819 - age_out_accuracy: 0.0473\n",
      "Epoch 52: val_loss did not improve from 7.56412\n",
      "278/278 [==============================] - 4s 14ms/step - loss: 8.0394 - sex_out_loss: 0.2663 - age_out_loss: 6.1486 - sex_out_accuracy: 0.8819 - age_out_accuracy: 0.0473 - val_loss: 7.5908 - val_sex_out_loss: 0.2209 - val_age_out_loss: 5.7462 - val_sex_out_accuracy: 0.9003 - val_age_out_accuracy: 0.0471\n",
      "Epoch 53/250\n",
      "275/278 [============================>.] - ETA: 0s - loss: 8.0452 - sex_out_loss: 0.2626 - age_out_loss: 6.1541 - sex_out_accuracy: 0.8833 - age_out_accuracy: 0.0473\n",
      "Epoch 53: val_loss did not improve from 7.56412\n",
      "278/278 [==============================] - 4s 14ms/step - loss: 8.0510 - sex_out_loss: 0.2626 - age_out_loss: 6.1599 - sex_out_accuracy: 0.8832 - age_out_accuracy: 0.0474 - val_loss: 22.0653 - val_sex_out_loss: 0.2975 - val_age_out_loss: 20.1358 - val_sex_out_accuracy: 0.8596 - val_age_out_accuracy: 0.0471\n",
      "Epoch 54/250\n",
      "278/278 [==============================] - ETA: 0s - loss: 7.9723 - sex_out_loss: 0.2647 - age_out_loss: 6.0714 - sex_out_accuracy: 0.8812 - age_out_accuracy: 0.0474\n",
      "Epoch 54: val_loss did not improve from 7.56412\n",
      "278/278 [==============================] - 4s 14ms/step - loss: 7.9723 - sex_out_loss: 0.2647 - age_out_loss: 6.0714 - sex_out_accuracy: 0.8812 - age_out_accuracy: 0.0474 - val_loss: 11.3599 - val_sex_out_loss: 0.2811 - val_age_out_loss: 9.4388 - val_sex_out_accuracy: 0.8650 - val_age_out_accuracy: 0.0471\n",
      "Epoch 55/250\n",
      "276/278 [============================>.] - ETA: 0s - loss: 8.0277 - sex_out_loss: 0.2638 - age_out_loss: 6.1145 - sex_out_accuracy: 0.8842 - age_out_accuracy: 0.0474\n",
      "Epoch 55: val_loss did not improve from 7.56412\n",
      "278/278 [==============================] - 4s 14ms/step - loss: 8.0323 - sex_out_loss: 0.2635 - age_out_loss: 6.1194 - sex_out_accuracy: 0.8843 - age_out_accuracy: 0.0472 - val_loss: 24.3982 - val_sex_out_loss: 0.2974 - val_age_out_loss: 22.4490 - val_sex_out_accuracy: 0.8740 - val_age_out_accuracy: 0.0471\n",
      "Epoch 56/250\n",
      "278/278 [==============================] - ETA: 0s - loss: 8.0097 - sex_out_loss: 0.2634 - age_out_loss: 6.0900 - sex_out_accuracy: 0.8835 - age_out_accuracy: 0.0471\n",
      "Epoch 56: val_loss did not improve from 7.56412\n",
      "278/278 [==============================] - 4s 14ms/step - loss: 8.0097 - sex_out_loss: 0.2634 - age_out_loss: 6.0900 - sex_out_accuracy: 0.8835 - age_out_accuracy: 0.0471 - val_loss: 13.5758 - val_sex_out_loss: 0.2651 - val_age_out_loss: 11.6524 - val_sex_out_accuracy: 0.8812 - val_age_out_accuracy: 0.0471\n",
      "Epoch 57/250\n",
      "278/278 [==============================] - ETA: 0s - loss: 7.8938 - sex_out_loss: 0.2661 - age_out_loss: 5.9653 - sex_out_accuracy: 0.8845 - age_out_accuracy: 0.0470\n",
      "Epoch 57: val_loss did not improve from 7.56412\n",
      "278/278 [==============================] - 4s 14ms/step - loss: 7.8938 - sex_out_loss: 0.2661 - age_out_loss: 5.9653 - sex_out_accuracy: 0.8845 - age_out_accuracy: 0.0470 - val_loss: 10.4960 - val_sex_out_loss: 0.2833 - val_age_out_loss: 8.5491 - val_sex_out_accuracy: 0.8627 - val_age_out_accuracy: 0.0471\n",
      "Epoch 58/250\n",
      "276/278 [============================>.] - ETA: 0s - loss: 8.0329 - sex_out_loss: 0.2617 - age_out_loss: 6.1073 - sex_out_accuracy: 0.8876 - age_out_accuracy: 0.0472\n",
      "Epoch 58: val_loss did not improve from 7.56412\n",
      "278/278 [==============================] - 4s 14ms/step - loss: 8.0407 - sex_out_loss: 0.2615 - age_out_loss: 6.1153 - sex_out_accuracy: 0.8878 - age_out_accuracy: 0.0470 - val_loss: 8.1595 - val_sex_out_loss: 0.2203 - val_age_out_loss: 6.2720 - val_sex_out_accuracy: 0.9035 - val_age_out_accuracy: 0.0471\n",
      "Epoch 59/250\n",
      "274/278 [============================>.] - ETA: 0s - loss: 7.8982 - sex_out_loss: 0.2631 - age_out_loss: 5.9585 - sex_out_accuracy: 0.8840 - age_out_accuracy: 0.0470\n",
      "Epoch 59: val_loss did not improve from 7.56412\n",
      "278/278 [==============================] - 4s 14ms/step - loss: 7.9066 - sex_out_loss: 0.2637 - age_out_loss: 5.9662 - sex_out_accuracy: 0.8834 - age_out_accuracy: 0.0470 - val_loss: 9.0784 - val_sex_out_loss: 0.2542 - val_age_out_loss: 7.1461 - val_sex_out_accuracy: 0.8876 - val_age_out_accuracy: 0.0471\n",
      "Epoch 60/250\n",
      "276/278 [============================>.] - ETA: 0s - loss: 8.0271 - sex_out_loss: 0.2620 - age_out_loss: 6.0909 - sex_out_accuracy: 0.8837 - age_out_accuracy: 0.0473\n",
      "Epoch 60: val_loss did not improve from 7.56412\n",
      "278/278 [==============================] - 4s 14ms/step - loss: 8.0265 - sex_out_loss: 0.2619 - age_out_loss: 6.0903 - sex_out_accuracy: 0.8840 - age_out_accuracy: 0.0471 - val_loss: 7.9327 - val_sex_out_loss: 0.2331 - val_age_out_loss: 6.0228 - val_sex_out_accuracy: 0.8939 - val_age_out_accuracy: 0.0471\n",
      "Epoch 61/250\n",
      "278/278 [==============================] - ETA: 0s - loss: 7.9247 - sex_out_loss: 0.2678 - age_out_loss: 5.9846 - sex_out_accuracy: 0.8836 - age_out_accuracy: 0.0474\n",
      "Epoch 61: val_loss did not improve from 7.56412\n",
      "278/278 [==============================] - 4s 14ms/step - loss: 7.9247 - sex_out_loss: 0.2678 - age_out_loss: 5.9846 - sex_out_accuracy: 0.8836 - age_out_accuracy: 0.0474 - val_loss: 17.1600 - val_sex_out_loss: 0.2799 - val_age_out_loss: 15.2097 - val_sex_out_accuracy: 0.8797 - val_age_out_accuracy: 0.0471\n",
      "Epoch 62/250\n",
      "277/278 [============================>.] - ETA: 0s - loss: 7.9457 - sex_out_loss: 0.2601 - age_out_loss: 6.0171 - sex_out_accuracy: 0.8847 - age_out_accuracy: 0.0471\n",
      "Epoch 62: val_loss did not improve from 7.56412\n",
      "278/278 [==============================] - 4s 14ms/step - loss: 7.9413 - sex_out_loss: 0.2599 - age_out_loss: 6.0129 - sex_out_accuracy: 0.8847 - age_out_accuracy: 0.0472 - val_loss: 7.8672 - val_sex_out_loss: 0.2325 - val_age_out_loss: 5.9619 - val_sex_out_accuracy: 0.8961 - val_age_out_accuracy: 0.0471\n",
      "Epoch 63/250\n",
      "278/278 [==============================] - ETA: 0s - loss: 7.9079 - sex_out_loss: 0.2596 - age_out_loss: 5.9727 - sex_out_accuracy: 0.8837 - age_out_accuracy: 0.0474\n",
      "Epoch 63: val_loss improved from 7.56412 to 7.53474, saving model to /kaggle/working/model_weights.h5\n",
      "278/278 [==============================] - 4s 14ms/step - loss: 7.9079 - sex_out_loss: 0.2596 - age_out_loss: 5.9727 - sex_out_accuracy: 0.8837 - age_out_accuracy: 0.0474 - val_loss: 7.5347 - val_sex_out_loss: 0.2201 - val_age_out_loss: 5.6374 - val_sex_out_accuracy: 0.9026 - val_age_out_accuracy: 0.0471\n",
      "Epoch 64/250\n",
      "278/278 [==============================] - ETA: 0s - loss: 8.0026 - sex_out_loss: 0.2601 - age_out_loss: 6.0629 - sex_out_accuracy: 0.8847 - age_out_accuracy: 0.0472\n",
      "Epoch 64: val_loss did not improve from 7.53474\n",
      "278/278 [==============================] - 4s 14ms/step - loss: 8.0026 - sex_out_loss: 0.2601 - age_out_loss: 6.0629 - sex_out_accuracy: 0.8847 - age_out_accuracy: 0.0472 - val_loss: 20.9543 - val_sex_out_loss: 0.4010 - val_age_out_loss: 18.8721 - val_sex_out_accuracy: 0.8038 - val_age_out_accuracy: 0.0471\n",
      "Epoch 65/250\n",
      "276/278 [============================>.] - ETA: 0s - loss: 7.9139 - sex_out_loss: 0.2601 - age_out_loss: 5.9709 - sex_out_accuracy: 0.8843 - age_out_accuracy: 0.0469\n",
      "Epoch 65: val_loss did not improve from 7.53474\n",
      "278/278 [==============================] - 4s 14ms/step - loss: 7.9115 - sex_out_loss: 0.2594 - age_out_loss: 5.9692 - sex_out_accuracy: 0.8845 - age_out_accuracy: 0.0468 - val_loss: 8.3242 - val_sex_out_loss: 0.2492 - val_age_out_loss: 6.3909 - val_sex_out_accuracy: 0.8848 - val_age_out_accuracy: 0.0471\n",
      "Epoch 66/250\n",
      "274/278 [============================>.] - ETA: 0s - loss: 7.8789 - sex_out_loss: 0.2661 - age_out_loss: 5.9340 - sex_out_accuracy: 0.8818 - age_out_accuracy: 0.0473\n",
      "Epoch 66: val_loss did not improve from 7.53474\n",
      "278/278 [==============================] - 4s 14ms/step - loss: 7.8761 - sex_out_loss: 0.2650 - age_out_loss: 5.9324 - sex_out_accuracy: 0.8822 - age_out_accuracy: 0.0472 - val_loss: 8.2824 - val_sex_out_loss: 0.2922 - val_age_out_loss: 6.3132 - val_sex_out_accuracy: 0.8598 - val_age_out_accuracy: 0.0471\n",
      "Epoch 67/250\n",
      "275/278 [============================>.] - ETA: 0s - loss: 7.8420 - sex_out_loss: 0.2557 - age_out_loss: 5.9027 - sex_out_accuracy: 0.8863 - age_out_accuracy: 0.0465\n",
      "Epoch 67: val_loss did not improve from 7.53474\n",
      "278/278 [==============================] - 4s 14ms/step - loss: 7.8375 - sex_out_loss: 0.2554 - age_out_loss: 5.8985 - sex_out_accuracy: 0.8866 - age_out_accuracy: 0.0467 - val_loss: 13.7806 - val_sex_out_loss: 0.2423 - val_age_out_loss: 11.8524 - val_sex_out_accuracy: 0.8912 - val_age_out_accuracy: 0.0471\n",
      "Epoch 68/250\n",
      "275/278 [============================>.] - ETA: 0s - loss: 7.8894 - sex_out_loss: 0.2554 - age_out_loss: 5.9461 - sex_out_accuracy: 0.8878 - age_out_accuracy: 0.0469\n",
      "Epoch 68: val_loss did not improve from 7.53474\n",
      "278/278 [==============================] - 4s 14ms/step - loss: 7.8878 - sex_out_loss: 0.2556 - age_out_loss: 5.9443 - sex_out_accuracy: 0.8876 - age_out_accuracy: 0.0472 - val_loss: 8.0391 - val_sex_out_loss: 0.2350 - val_age_out_loss: 6.1121 - val_sex_out_accuracy: 0.9010 - val_age_out_accuracy: 0.0471\n",
      "Epoch 69/250\n",
      "278/278 [==============================] - ETA: 0s - loss: 7.8822 - sex_out_loss: 0.2571 - age_out_loss: 5.9324 - sex_out_accuracy: 0.8849 - age_out_accuracy: 0.0470\n",
      "Epoch 69: val_loss did not improve from 7.53474\n",
      "278/278 [==============================] - 4s 14ms/step - loss: 7.8822 - sex_out_loss: 0.2571 - age_out_loss: 5.9324 - sex_out_accuracy: 0.8849 - age_out_accuracy: 0.0470 - val_loss: 9.0784 - val_sex_out_loss: 0.2577 - val_age_out_loss: 7.1265 - val_sex_out_accuracy: 0.8805 - val_age_out_accuracy: 0.0471\n",
      "Epoch 70/250\n",
      "278/278 [==============================] - ETA: 0s - loss: 7.9428 - sex_out_loss: 0.2593 - age_out_loss: 5.9865 - sex_out_accuracy: 0.8844 - age_out_accuracy: 0.0470\n",
      "Epoch 70: val_loss did not improve from 7.53474\n",
      "278/278 [==============================] - 4s 14ms/step - loss: 7.9428 - sex_out_loss: 0.2593 - age_out_loss: 5.9865 - sex_out_accuracy: 0.8844 - age_out_accuracy: 0.0470 - val_loss: 7.9720 - val_sex_out_loss: 0.2291 - val_age_out_loss: 6.0396 - val_sex_out_accuracy: 0.8983 - val_age_out_accuracy: 0.0471\n",
      "Epoch 71/250\n",
      "278/278 [==============================] - ETA: 0s - loss: 7.8638 - sex_out_loss: 0.2558 - age_out_loss: 5.9109 - sex_out_accuracy: 0.8881 - age_out_accuracy: 0.0471\n",
      "Epoch 71: val_loss did not improve from 7.53474\n",
      "278/278 [==============================] - 4s 14ms/step - loss: 7.8638 - sex_out_loss: 0.2558 - age_out_loss: 5.9109 - sex_out_accuracy: 0.8881 - age_out_accuracy: 0.0471 - val_loss: 14.0191 - val_sex_out_loss: 0.4052 - val_age_out_loss: 11.9181 - val_sex_out_accuracy: 0.8073 - val_age_out_accuracy: 0.0471\n",
      "Epoch 72/250\n",
      "274/278 [============================>.] - ETA: 0s - loss: 7.8809 - sex_out_loss: 0.2603 - age_out_loss: 5.9200 - sex_out_accuracy: 0.8858 - age_out_accuracy: 0.0469\n",
      "Epoch 72: val_loss did not improve from 7.53474\n",
      "278/278 [==============================] - 4s 14ms/step - loss: 7.8879 - sex_out_loss: 0.2592 - age_out_loss: 5.9281 - sex_out_accuracy: 0.8862 - age_out_accuracy: 0.0468 - val_loss: 24.9959 - val_sex_out_loss: 0.3444 - val_age_out_loss: 22.9456 - val_sex_out_accuracy: 0.8404 - val_age_out_accuracy: 0.0471\n",
      "Epoch 73/250\n",
      "276/278 [============================>.] - ETA: 0s - loss: 7.8863 - sex_out_loss: 0.2538 - age_out_loss: 5.9173 - sex_out_accuracy: 0.8858 - age_out_accuracy: 0.0470\n",
      "Epoch 73: val_loss did not improve from 7.53474\n",
      "278/278 [==============================] - 4s 14ms/step - loss: 7.8846 - sex_out_loss: 0.2534 - age_out_loss: 5.9160 - sex_out_accuracy: 0.8861 - age_out_accuracy: 0.0472 - val_loss: 8.4801 - val_sex_out_loss: 0.2746 - val_age_out_loss: 6.4901 - val_sex_out_accuracy: 0.8697 - val_age_out_accuracy: 0.0471\n",
      "Epoch 74/250\n",
      "278/278 [==============================] - ETA: 0s - loss: 7.9212 - sex_out_loss: 0.2510 - age_out_loss: 5.9568 - sex_out_accuracy: 0.8917 - age_out_accuracy: 0.0471\n",
      "Epoch 74: val_loss did not improve from 7.53474\n",
      "278/278 [==============================] - 4s 14ms/step - loss: 7.9212 - sex_out_loss: 0.2510 - age_out_loss: 5.9568 - sex_out_accuracy: 0.8917 - age_out_accuracy: 0.0471 - val_loss: 7.8824 - val_sex_out_loss: 0.2610 - val_age_out_loss: 5.9094 - val_sex_out_accuracy: 0.8773 - val_age_out_accuracy: 0.0471\n",
      "Epoch 75/250\n",
      "274/278 [============================>.] - ETA: 0s - loss: 7.8479 - sex_out_loss: 0.2558 - age_out_loss: 5.8791 - sex_out_accuracy: 0.8875 - age_out_accuracy: 0.0468\n",
      "Epoch 75: val_loss did not improve from 7.53474\n",
      "278/278 [==============================] - 4s 14ms/step - loss: 7.8525 - sex_out_loss: 0.2558 - age_out_loss: 5.8837 - sex_out_accuracy: 0.8875 - age_out_accuracy: 0.0468 - val_loss: 11.0737 - val_sex_out_loss: 0.2290 - val_age_out_loss: 9.1288 - val_sex_out_accuracy: 0.8966 - val_age_out_accuracy: 0.0471\n",
      "Epoch 76/250\n",
      "278/278 [==============================] - ETA: 0s - loss: 7.8254 - sex_out_loss: 0.2578 - age_out_loss: 5.8484 - sex_out_accuracy: 0.8852 - age_out_accuracy: 0.0472\n",
      "Epoch 76: val_loss did not improve from 7.53474\n",
      "278/278 [==============================] - 4s 14ms/step - loss: 7.8254 - sex_out_loss: 0.2578 - age_out_loss: 5.8484 - sex_out_accuracy: 0.8852 - age_out_accuracy: 0.0472 - val_loss: 26.0357 - val_sex_out_loss: 0.2991 - val_age_out_loss: 24.0139 - val_sex_out_accuracy: 0.8618 - val_age_out_accuracy: 0.0471\n",
      "Epoch 77/250\n",
      "274/278 [============================>.] - ETA: 0s - loss: 7.8530 - sex_out_loss: 0.2557 - age_out_loss: 5.8756 - sex_out_accuracy: 0.8858 - age_out_accuracy: 0.0468\n",
      "Epoch 77: val_loss did not improve from 7.53474\n",
      "278/278 [==============================] - 4s 14ms/step - loss: 7.8530 - sex_out_loss: 0.2557 - age_out_loss: 5.8755 - sex_out_accuracy: 0.8857 - age_out_accuracy: 0.0468 - val_loss: 8.7950 - val_sex_out_loss: 0.2456 - val_age_out_loss: 6.8207 - val_sex_out_accuracy: 0.8883 - val_age_out_accuracy: 0.0471\n",
      "Epoch 78/250\n",
      "278/278 [==============================] - ETA: 0s - loss: 7.8936 - sex_out_loss: 0.2535 - age_out_loss: 5.9097 - sex_out_accuracy: 0.8867 - age_out_accuracy: 0.0470\n",
      "Epoch 78: val_loss did not improve from 7.53474\n",
      "278/278 [==============================] - 4s 14ms/step - loss: 7.8936 - sex_out_loss: 0.2535 - age_out_loss: 5.9097 - sex_out_accuracy: 0.8867 - age_out_accuracy: 0.0470 - val_loss: 11.6148 - val_sex_out_loss: 0.2407 - val_age_out_loss: 9.6447 - val_sex_out_accuracy: 0.8917 - val_age_out_accuracy: 0.0471\n",
      "Epoch 79/250\n",
      "278/278 [==============================] - ETA: 0s - loss: 7.8264 - sex_out_loss: 0.2552 - age_out_loss: 5.8453 - sex_out_accuracy: 0.8886 - age_out_accuracy: 0.0468\n",
      "Epoch 79: val_loss did not improve from 7.53474\n",
      "278/278 [==============================] - 4s 14ms/step - loss: 7.8264 - sex_out_loss: 0.2552 - age_out_loss: 5.8453 - sex_out_accuracy: 0.8886 - age_out_accuracy: 0.0468 - val_loss: 8.4518 - val_sex_out_loss: 0.2273 - val_age_out_loss: 6.4998 - val_sex_out_accuracy: 0.8967 - val_age_out_accuracy: 0.0471\n",
      "Epoch 80/250\n",
      "278/278 [==============================] - ETA: 0s - loss: 7.8389 - sex_out_loss: 0.2592 - age_out_loss: 5.8557 - sex_out_accuracy: 0.8888 - age_out_accuracy: 0.0470\n",
      "Epoch 80: val_loss did not improve from 7.53474\n",
      "278/278 [==============================] - 4s 14ms/step - loss: 7.8389 - sex_out_loss: 0.2592 - age_out_loss: 5.8557 - sex_out_accuracy: 0.8888 - age_out_accuracy: 0.0470 - val_loss: 8.2257 - val_sex_out_loss: 0.2678 - val_age_out_loss: 6.2336 - val_sex_out_accuracy: 0.8792 - val_age_out_accuracy: 0.0471\n",
      "Epoch 81/250\n",
      "277/278 [============================>.] - ETA: 0s - loss: 7.7380 - sex_out_loss: 0.2541 - age_out_loss: 5.7613 - sex_out_accuracy: 0.8903 - age_out_accuracy: 0.0470\n",
      "Epoch 81: val_loss did not improve from 7.53474\n",
      "278/278 [==============================] - 4s 14ms/step - loss: 7.7378 - sex_out_loss: 0.2542 - age_out_loss: 5.7611 - sex_out_accuracy: 0.8903 - age_out_accuracy: 0.0470 - val_loss: 14.4917 - val_sex_out_loss: 0.2552 - val_age_out_loss: 12.5151 - val_sex_out_accuracy: 0.8892 - val_age_out_accuracy: 0.0471\n",
      "Epoch 82/250\n",
      "277/278 [============================>.] - ETA: 0s - loss: 7.8416 - sex_out_loss: 0.2545 - age_out_loss: 5.8640 - sex_out_accuracy: 0.8869 - age_out_accuracy: 0.0468\n",
      "Epoch 82: val_loss did not improve from 7.53474\n",
      "278/278 [==============================] - 4s 14ms/step - loss: 7.8423 - sex_out_loss: 0.2545 - age_out_loss: 5.8647 - sex_out_accuracy: 0.8869 - age_out_accuracy: 0.0468 - val_loss: 11.9163 - val_sex_out_loss: 0.3332 - val_age_out_loss: 9.8621 - val_sex_out_accuracy: 0.8429 - val_age_out_accuracy: 0.0471\n",
      "Epoch 83/250\n",
      "275/278 [============================>.] - ETA: 0s - loss: 7.8750 - sex_out_loss: 0.2575 - age_out_loss: 5.8993 - sex_out_accuracy: 0.8865 - age_out_accuracy: 0.0463\n",
      "Epoch 83: val_loss did not improve from 7.53474\n",
      "278/278 [==============================] - 4s 14ms/step - loss: 7.8781 - sex_out_loss: 0.2578 - age_out_loss: 5.9021 - sex_out_accuracy: 0.8867 - age_out_accuracy: 0.0463 - val_loss: 7.8891 - val_sex_out_loss: 0.2335 - val_age_out_loss: 5.9353 - val_sex_out_accuracy: 0.8944 - val_age_out_accuracy: 0.0471\n",
      "Epoch 84/250\n",
      "274/278 [============================>.] - ETA: 0s - loss: 7.8456 - sex_out_loss: 0.2521 - age_out_loss: 5.8728 - sex_out_accuracy: 0.8874 - age_out_accuracy: 0.0465\n",
      "Epoch 84: val_loss did not improve from 7.53474\n",
      "278/278 [==============================] - 4s 14ms/step - loss: 7.8448 - sex_out_loss: 0.2521 - age_out_loss: 5.8719 - sex_out_accuracy: 0.8871 - age_out_accuracy: 0.0465 - val_loss: 19.5051 - val_sex_out_loss: 0.3195 - val_age_out_loss: 17.4615 - val_sex_out_accuracy: 0.8509 - val_age_out_accuracy: 0.0471\n",
      "Epoch 85/250\n",
      "274/278 [============================>.] - ETA: 0s - loss: 7.8460 - sex_out_loss: 0.2544 - age_out_loss: 5.8648 - sex_out_accuracy: 0.8881 - age_out_accuracy: 0.0468\n",
      "Epoch 85: val_loss improved from 7.53474 to 7.44492, saving model to /kaggle/working/model_weights.h5\n",
      "278/278 [==============================] - 4s 14ms/step - loss: 7.8484 - sex_out_loss: 0.2549 - age_out_loss: 5.8666 - sex_out_accuracy: 0.8879 - age_out_accuracy: 0.0466 - val_loss: 7.4449 - val_sex_out_loss: 0.2295 - val_age_out_loss: 5.4811 - val_sex_out_accuracy: 0.8957 - val_age_out_accuracy: 0.0471\n",
      "Epoch 86/250\n",
      "278/278 [==============================] - ETA: 0s - loss: 7.7517 - sex_out_loss: 0.2520 - age_out_loss: 5.7638 - sex_out_accuracy: 0.8937 - age_out_accuracy: 0.0460\n",
      "Epoch 86: val_loss did not improve from 7.44492\n",
      "278/278 [==============================] - 4s 14ms/step - loss: 7.7517 - sex_out_loss: 0.2520 - age_out_loss: 5.7638 - sex_out_accuracy: 0.8937 - age_out_accuracy: 0.0460 - val_loss: 9.7985 - val_sex_out_loss: 0.2296 - val_age_out_loss: 7.8287 - val_sex_out_accuracy: 0.8989 - val_age_out_accuracy: 0.0471\n",
      "Epoch 87/250\n",
      "278/278 [==============================] - ETA: 0s - loss: 7.8441 - sex_out_loss: 0.2573 - age_out_loss: 5.8477 - sex_out_accuracy: 0.8879 - age_out_accuracy: 0.0467\n",
      "Epoch 87: val_loss did not improve from 7.44492\n",
      "278/278 [==============================] - 4s 14ms/step - loss: 7.8441 - sex_out_loss: 0.2573 - age_out_loss: 5.8477 - sex_out_accuracy: 0.8879 - age_out_accuracy: 0.0467 - val_loss: 12.9890 - val_sex_out_loss: 0.2386 - val_age_out_loss: 11.0141 - val_sex_out_accuracy: 0.8951 - val_age_out_accuracy: 0.0471\n",
      "Epoch 88/250\n",
      "276/278 [============================>.] - ETA: 0s - loss: 7.7832 - sex_out_loss: 0.2538 - age_out_loss: 5.7904 - sex_out_accuracy: 0.8880 - age_out_accuracy: 0.0468\n",
      "Epoch 88: val_loss did not improve from 7.44492\n",
      "278/278 [==============================] - 4s 14ms/step - loss: 7.7778 - sex_out_loss: 0.2536 - age_out_loss: 5.7851 - sex_out_accuracy: 0.8880 - age_out_accuracy: 0.0469 - val_loss: 8.2598 - val_sex_out_loss: 0.2595 - val_age_out_loss: 6.2586 - val_sex_out_accuracy: 0.8844 - val_age_out_accuracy: 0.0471\n",
      "Epoch 89/250\n",
      "277/278 [============================>.] - ETA: 0s - loss: 7.8675 - sex_out_loss: 0.2536 - age_out_loss: 5.8703 - sex_out_accuracy: 0.8892 - age_out_accuracy: 0.0461\n",
      "Epoch 89: val_loss did not improve from 7.44492\n",
      "278/278 [==============================] - 4s 14ms/step - loss: 7.8675 - sex_out_loss: 0.2540 - age_out_loss: 5.8699 - sex_out_accuracy: 0.8890 - age_out_accuracy: 0.0462 - val_loss: 16.7515 - val_sex_out_loss: 0.2645 - val_age_out_loss: 14.7382 - val_sex_out_accuracy: 0.8804 - val_age_out_accuracy: 0.0471\n",
      "Epoch 90/250\n",
      "277/278 [============================>.] - ETA: 0s - loss: 7.8537 - sex_out_loss: 0.2538 - age_out_loss: 5.8475 - sex_out_accuracy: 0.8887 - age_out_accuracy: 0.0472\n",
      "Epoch 90: val_loss did not improve from 7.44492\n",
      "278/278 [==============================] - 4s 14ms/step - loss: 7.8548 - sex_out_loss: 0.2543 - age_out_loss: 5.8482 - sex_out_accuracy: 0.8885 - age_out_accuracy: 0.0471 - val_loss: 7.5336 - val_sex_out_loss: 0.2233 - val_age_out_loss: 5.5566 - val_sex_out_accuracy: 0.9008 - val_age_out_accuracy: 0.0471\n",
      "Epoch 91/250\n",
      "274/278 [============================>.] - ETA: 0s - loss: 7.8150 - sex_out_loss: 0.2502 - age_out_loss: 5.8134 - sex_out_accuracy: 0.8907 - age_out_accuracy: 0.0461\n",
      "Epoch 91: val_loss did not improve from 7.44492\n",
      "278/278 [==============================] - 4s 14ms/step - loss: 7.8136 - sex_out_loss: 0.2506 - age_out_loss: 5.8116 - sex_out_accuracy: 0.8903 - age_out_accuracy: 0.0463 - val_loss: 8.5723 - val_sex_out_loss: 0.2406 - val_age_out_loss: 6.5827 - val_sex_out_accuracy: 0.8902 - val_age_out_accuracy: 0.0471\n",
      "Epoch 92/250\n",
      "274/278 [============================>.] - ETA: 0s - loss: 7.9186 - sex_out_loss: 0.2551 - age_out_loss: 5.9144 - sex_out_accuracy: 0.8886 - age_out_accuracy: 0.0469\n",
      "Epoch 92: val_loss did not improve from 7.44492\n",
      "278/278 [==============================] - 4s 14ms/step - loss: 7.9109 - sex_out_loss: 0.2556 - age_out_loss: 5.9061 - sex_out_accuracy: 0.8885 - age_out_accuracy: 0.0468 - val_loss: 10.3702 - val_sex_out_loss: 0.2405 - val_age_out_loss: 8.3821 - val_sex_out_accuracy: 0.8892 - val_age_out_accuracy: 0.0471\n",
      "Epoch 93/250\n",
      "278/278 [==============================] - ETA: 0s - loss: 7.7883 - sex_out_loss: 0.2509 - age_out_loss: 5.7868 - sex_out_accuracy: 0.8894 - age_out_accuracy: 0.0465\n",
      "Epoch 93: val_loss did not improve from 7.44492\n",
      "278/278 [==============================] - 4s 14ms/step - loss: 7.7883 - sex_out_loss: 0.2509 - age_out_loss: 5.7868 - sex_out_accuracy: 0.8894 - age_out_accuracy: 0.0465 - val_loss: 14.5582 - val_sex_out_loss: 0.3074 - val_age_out_loss: 12.4988 - val_sex_out_accuracy: 0.8549 - val_age_out_accuracy: 0.0471\n",
      "Epoch 94/250\n",
      "277/278 [============================>.] - ETA: 0s - loss: 7.7530 - sex_out_loss: 0.2497 - age_out_loss: 5.7492 - sex_out_accuracy: 0.8896 - age_out_accuracy: 0.0468\n",
      "Epoch 94: val_loss did not improve from 7.44492\n",
      "278/278 [==============================] - 4s 14ms/step - loss: 7.7500 - sex_out_loss: 0.2496 - age_out_loss: 5.7462 - sex_out_accuracy: 0.8896 - age_out_accuracy: 0.0468 - val_loss: 8.7460 - val_sex_out_loss: 0.4140 - val_age_out_loss: 6.5708 - val_sex_out_accuracy: 0.7965 - val_age_out_accuracy: 0.0471\n",
      "Epoch 95/250\n",
      "277/278 [============================>.] - ETA: 0s - loss: 7.7830 - sex_out_loss: 0.2536 - age_out_loss: 5.7628 - sex_out_accuracy: 0.8890 - age_out_accuracy: 0.0463\n",
      "Epoch 95: val_loss did not improve from 7.44492\n",
      "278/278 [==============================] - 4s 14ms/step - loss: 7.7845 - sex_out_loss: 0.2534 - age_out_loss: 5.7644 - sex_out_accuracy: 0.8891 - age_out_accuracy: 0.0461 - val_loss: 10.3589 - val_sex_out_loss: 0.2345 - val_age_out_loss: 8.3539 - val_sex_out_accuracy: 0.8942 - val_age_out_accuracy: 0.0471\n",
      "Epoch 96/250\n",
      "274/278 [============================>.] - ETA: 0s - loss: 7.7838 - sex_out_loss: 0.2492 - age_out_loss: 5.7661 - sex_out_accuracy: 0.8906 - age_out_accuracy: 0.0469\n",
      "Epoch 96: val_loss did not improve from 7.44492\n",
      "278/278 [==============================] - 4s 14ms/step - loss: 7.7830 - sex_out_loss: 0.2495 - age_out_loss: 5.7650 - sex_out_accuracy: 0.8904 - age_out_accuracy: 0.0468 - val_loss: 8.3548 - val_sex_out_loss: 0.2445 - val_age_out_loss: 6.3380 - val_sex_out_accuracy: 0.8892 - val_age_out_accuracy: 0.0471\n",
      "Epoch 97/250\n",
      "274/278 [============================>.] - ETA: 0s - loss: 7.7453 - sex_out_loss: 0.2532 - age_out_loss: 5.7170 - sex_out_accuracy: 0.8907 - age_out_accuracy: 0.0463\n",
      "Epoch 97: val_loss did not improve from 7.44492\n",
      "278/278 [==============================] - 4s 14ms/step - loss: 7.7447 - sex_out_loss: 0.2532 - age_out_loss: 5.7165 - sex_out_accuracy: 0.8907 - age_out_accuracy: 0.0463 - val_loss: 7.8879 - val_sex_out_loss: 0.2445 - val_age_out_loss: 5.8657 - val_sex_out_accuracy: 0.8934 - val_age_out_accuracy: 0.0471\n",
      "Epoch 98/250\n",
      "274/278 [============================>.] - ETA: 0s - loss: 7.7399 - sex_out_loss: 0.2559 - age_out_loss: 5.7086 - sex_out_accuracy: 0.8862 - age_out_accuracy: 0.0459\n",
      "Epoch 98: val_loss did not improve from 7.44492\n",
      "278/278 [==============================] - 4s 14ms/step - loss: 7.7603 - sex_out_loss: 0.2564 - age_out_loss: 5.7286 - sex_out_accuracy: 0.8862 - age_out_accuracy: 0.0456 - val_loss: 14.5341 - val_sex_out_loss: 0.2769 - val_age_out_loss: 12.4826 - val_sex_out_accuracy: 0.8760 - val_age_out_accuracy: 0.0471\n",
      "Epoch 99/250\n",
      "276/278 [============================>.] - ETA: 0s - loss: 7.7636 - sex_out_loss: 0.2510 - age_out_loss: 5.7379 - sex_out_accuracy: 0.8901 - age_out_accuracy: 0.0460\n",
      "Epoch 99: val_loss did not improve from 7.44492\n",
      "278/278 [==============================] - 4s 14ms/step - loss: 7.7574 - sex_out_loss: 0.2512 - age_out_loss: 5.7315 - sex_out_accuracy: 0.8899 - age_out_accuracy: 0.0462 - val_loss: 9.8130 - val_sex_out_loss: 0.2499 - val_age_out_loss: 7.7930 - val_sex_out_accuracy: 0.8876 - val_age_out_accuracy: 0.0471\n",
      "Epoch 100/250\n",
      "277/278 [============================>.] - ETA: 0s - loss: 7.7454 - sex_out_loss: 0.2485 - age_out_loss: 5.7262 - sex_out_accuracy: 0.8902 - age_out_accuracy: 0.0459\n",
      "Epoch 100: val_loss did not improve from 7.44492\n",
      "278/278 [==============================] - 4s 14ms/step - loss: 7.7486 - sex_out_loss: 0.2486 - age_out_loss: 5.7292 - sex_out_accuracy: 0.8902 - age_out_accuracy: 0.0461 - val_loss: 10.5450 - val_sex_out_loss: 0.2521 - val_age_out_loss: 8.5236 - val_sex_out_accuracy: 0.8856 - val_age_out_accuracy: 0.0471\n",
      "Epoch 101/250\n",
      "276/278 [============================>.] - ETA: 0s - loss: 7.6731 - sex_out_loss: 0.2501 - age_out_loss: 5.6506 - sex_out_accuracy: 0.8914 - age_out_accuracy: 0.0463\n",
      "Epoch 101: val_loss did not improve from 7.44492\n",
      "278/278 [==============================] - 4s 14ms/step - loss: 7.6734 - sex_out_loss: 0.2506 - age_out_loss: 5.6503 - sex_out_accuracy: 0.8911 - age_out_accuracy: 0.0463 - val_loss: 14.5476 - val_sex_out_loss: 0.2410 - val_age_out_loss: 12.5354 - val_sex_out_accuracy: 0.8910 - val_age_out_accuracy: 0.0471\n",
      "Epoch 102/250\n",
      "275/278 [============================>.] - ETA: 0s - loss: 7.7704 - sex_out_loss: 0.2525 - age_out_loss: 5.7508 - sex_out_accuracy: 0.8913 - age_out_accuracy: 0.0459\n",
      "Epoch 102: val_loss did not improve from 7.44492\n",
      "278/278 [==============================] - 4s 14ms/step - loss: 7.7727 - sex_out_loss: 0.2529 - age_out_loss: 5.7527 - sex_out_accuracy: 0.8911 - age_out_accuracy: 0.0459 - val_loss: 8.0175 - val_sex_out_loss: 0.2358 - val_age_out_loss: 6.0154 - val_sex_out_accuracy: 0.8908 - val_age_out_accuracy: 0.0471\n",
      "Epoch 103/250\n",
      "278/278 [==============================] - ETA: 0s - loss: 7.7308 - sex_out_loss: 0.2532 - age_out_loss: 5.7124 - sex_out_accuracy: 0.8890 - age_out_accuracy: 0.0460\n",
      "Epoch 103: val_loss did not improve from 7.44492\n",
      "278/278 [==============================] - 4s 14ms/step - loss: 7.7308 - sex_out_loss: 0.2532 - age_out_loss: 5.7124 - sex_out_accuracy: 0.8890 - age_out_accuracy: 0.0460 - val_loss: 9.2021 - val_sex_out_loss: 0.2238 - val_age_out_loss: 7.2129 - val_sex_out_accuracy: 0.9006 - val_age_out_accuracy: 0.0471\n",
      "Epoch 104/250\n",
      "276/278 [============================>.] - ETA: 0s - loss: 7.7683 - sex_out_loss: 0.2520 - age_out_loss: 5.7544 - sex_out_accuracy: 0.8885 - age_out_accuracy: 0.0463\n",
      "Epoch 104: val_loss did not improve from 7.44492\n",
      "278/278 [==============================] - 4s 14ms/step - loss: 7.7667 - sex_out_loss: 0.2522 - age_out_loss: 5.7527 - sex_out_accuracy: 0.8885 - age_out_accuracy: 0.0464 - val_loss: 9.2772 - val_sex_out_loss: 0.2538 - val_age_out_loss: 7.2666 - val_sex_out_accuracy: 0.8851 - val_age_out_accuracy: 0.0471\n",
      "Epoch 105/250\n",
      "278/278 [==============================] - ETA: 0s - loss: 7.6934 - sex_out_loss: 0.2469 - age_out_loss: 5.6891 - sex_out_accuracy: 0.8927 - age_out_accuracy: 0.0465\n",
      "Epoch 105: val_loss did not improve from 7.44492\n",
      "278/278 [==============================] - 4s 14ms/step - loss: 7.6934 - sex_out_loss: 0.2469 - age_out_loss: 5.6891 - sex_out_accuracy: 0.8927 - age_out_accuracy: 0.0465 - val_loss: 8.4784 - val_sex_out_loss: 0.2297 - val_age_out_loss: 6.4882 - val_sex_out_accuracy: 0.8971 - val_age_out_accuracy: 0.0471\n",
      "Epoch 106/250\n",
      "275/278 [============================>.] - ETA: 0s - loss: 7.6641 - sex_out_loss: 0.2485 - age_out_loss: 5.6524 - sex_out_accuracy: 0.8902 - age_out_accuracy: 0.0459\n",
      "Epoch 106: val_loss did not improve from 7.44492\n",
      "278/278 [==============================] - 4s 14ms/step - loss: 7.6623 - sex_out_loss: 0.2492 - age_out_loss: 5.6499 - sex_out_accuracy: 0.8900 - age_out_accuracy: 0.0462 - val_loss: 10.9143 - val_sex_out_loss: 0.2741 - val_age_out_loss: 8.8738 - val_sex_out_accuracy: 0.8775 - val_age_out_accuracy: 0.0471\n",
      "Epoch 107/250\n",
      "274/278 [============================>.] - ETA: 0s - loss: 7.7440 - sex_out_loss: 0.2557 - age_out_loss: 5.7145 - sex_out_accuracy: 0.8875 - age_out_accuracy: 0.0459\n",
      "Epoch 107: val_loss did not improve from 7.44492\n",
      "278/278 [==============================] - 4s 14ms/step - loss: 7.7354 - sex_out_loss: 0.2550 - age_out_loss: 5.7066 - sex_out_accuracy: 0.8879 - age_out_accuracy: 0.0460 - val_loss: 7.7786 - val_sex_out_loss: 0.2438 - val_age_out_loss: 5.7565 - val_sex_out_accuracy: 0.8848 - val_age_out_accuracy: 0.0471\n",
      "Epoch 108/250\n",
      "275/278 [============================>.] - ETA: 0s - loss: 7.8316 - sex_out_loss: 0.2457 - age_out_loss: 5.8041 - sex_out_accuracy: 0.8934 - age_out_accuracy: 0.0461\n",
      "Epoch 108: val_loss did not improve from 7.44492\n",
      "278/278 [==============================] - 4s 14ms/step - loss: 7.8296 - sex_out_loss: 0.2464 - age_out_loss: 5.8014 - sex_out_accuracy: 0.8930 - age_out_accuracy: 0.0462 - val_loss: 7.6564 - val_sex_out_loss: 0.2392 - val_age_out_loss: 5.6347 - val_sex_out_accuracy: 0.8910 - val_age_out_accuracy: 0.0471\n",
      "Epoch 109/250\n",
      "276/278 [============================>.] - ETA: 0s - loss: 7.7915 - sex_out_loss: 0.2493 - age_out_loss: 5.7605 - sex_out_accuracy: 0.8911 - age_out_accuracy: 0.0466\n",
      "Epoch 109: val_loss did not improve from 7.44492\n",
      "278/278 [==============================] - 4s 14ms/step - loss: 7.7904 - sex_out_loss: 0.2490 - age_out_loss: 5.7597 - sex_out_accuracy: 0.8913 - age_out_accuracy: 0.0466 - val_loss: 7.9768 - val_sex_out_loss: 0.2216 - val_age_out_loss: 5.9746 - val_sex_out_accuracy: 0.9010 - val_age_out_accuracy: 0.0471\n",
      "Epoch 110/250\n",
      "278/278 [==============================] - ETA: 0s - loss: 7.6930 - sex_out_loss: 0.2514 - age_out_loss: 5.6594 - sex_out_accuracy: 0.8898 - age_out_accuracy: 0.0454\n",
      "Epoch 110: val_loss did not improve from 7.44492\n",
      "278/278 [==============================] - 4s 14ms/step - loss: 7.6930 - sex_out_loss: 0.2514 - age_out_loss: 5.6594 - sex_out_accuracy: 0.8898 - age_out_accuracy: 0.0454 - val_loss: 8.9091 - val_sex_out_loss: 0.2315 - val_age_out_loss: 6.8932 - val_sex_out_accuracy: 0.8989 - val_age_out_accuracy: 0.0471\n"
     ]
    }
   ],
   "source": [
    "History = model.fit(X_train, y_train2, batch_size = 64, validation_data = (X_test, y_test2), epochs = 250, callbacks = callback_list)"
   ]
  },
  {
   "cell_type": "code",
   "execution_count": 24,
   "id": "c82eff7d",
   "metadata": {
    "execution": {
     "iopub.execute_input": "2023-12-27T11:16:59.873284Z",
     "iopub.status.busy": "2023-12-27T11:16:59.872604Z",
     "iopub.status.idle": "2023-12-27T11:17:01.368880Z",
     "shell.execute_reply": "2023-12-27T11:17:01.367986Z"
    },
    "papermill": {
     "duration": 2.068494,
     "end_time": "2023-12-27T11:17:01.370890",
     "exception": false,
     "start_time": "2023-12-27T11:16:59.302396",
     "status": "completed"
    },
    "tags": []
   },
   "outputs": [
    {
     "name": "stdout",
     "output_type": "stream",
     "text": [
      "186/186 [==============================] - 1s 5ms/step - loss: 7.4449 - sex_out_loss: 0.2295 - age_out_loss: 5.4811 - sex_out_accuracy: 0.8957 - age_out_accuracy: 0.0471\n"
     ]
    },
    {
     "data": {
      "text/plain": [
       "[7.444921016693115,\n",
       " 0.2294863760471344,\n",
       " 5.481083869934082,\n",
       " 0.8957313895225525,\n",
       " 0.047072719782590866]"
      ]
     },
     "execution_count": 24,
     "metadata": {},
     "output_type": "execute_result"
    }
   ],
   "source": [
    "model.evaluate(X_test, y_test2)"
   ]
  },
  {
   "cell_type": "code",
   "execution_count": 25,
   "id": "156a9101",
   "metadata": {
    "execution": {
     "iopub.execute_input": "2023-12-27T11:17:02.538810Z",
     "iopub.status.busy": "2023-12-27T11:17:02.538424Z",
     "iopub.status.idle": "2023-12-27T11:17:04.028273Z",
     "shell.execute_reply": "2023-12-27T11:17:04.027429Z"
    },
    "papermill": {
     "duration": 2.06523,
     "end_time": "2023-12-27T11:17:04.030545",
     "exception": false,
     "start_time": "2023-12-27T11:17:01.965315",
     "status": "completed"
    },
    "tags": []
   },
   "outputs": [
    {
     "name": "stdout",
     "output_type": "stream",
     "text": [
      "186/186 [==============================] - 1s 3ms/step\n"
     ]
    }
   ],
   "source": [
    "pred = model.predict(X_test)"
   ]
  },
  {
   "cell_type": "code",
   "execution_count": 26,
   "id": "82c8503f",
   "metadata": {
    "execution": {
     "iopub.execute_input": "2023-12-27T11:17:05.241587Z",
     "iopub.status.busy": "2023-12-27T11:17:05.241180Z",
     "iopub.status.idle": "2023-12-27T11:17:05.247843Z",
     "shell.execute_reply": "2023-12-27T11:17:05.246951Z"
    },
    "papermill": {
     "duration": 0.581918,
     "end_time": "2023-12-27T11:17:05.249830",
     "exception": false,
     "start_time": "2023-12-27T11:17:04.667912",
     "status": "completed"
    },
    "tags": []
   },
   "outputs": [
    {
     "data": {
      "text/plain": [
       "array([[75.28079  ],\n",
       "       [26.049942 ],\n",
       "       [ 7.5450606],\n",
       "       ...,\n",
       "       [63.02828  ],\n",
       "       [ 5.483911 ],\n",
       "       [38.035385 ]], dtype=float32)"
      ]
     },
     "execution_count": 26,
     "metadata": {},
     "output_type": "execute_result"
    }
   ],
   "source": [
    "pred[1]"
   ]
  },
  {
   "cell_type": "markdown",
   "id": "ef887afe",
   "metadata": {
    "papermill": {
     "duration": 0.624204,
     "end_time": "2023-12-27T11:17:06.438440",
     "exception": false,
     "start_time": "2023-12-27T11:17:05.814236",
     "status": "completed"
    },
    "tags": []
   },
   "source": [
    "## Plotting"
   ]
  },
  {
   "cell_type": "markdown",
   "id": "53fc172f",
   "metadata": {
    "papermill": {
     "duration": 0.57453,
     "end_time": "2023-12-27T11:17:07.581120",
     "exception": false,
     "start_time": "2023-12-27T11:17:07.006590",
     "status": "completed"
    },
    "tags": []
   },
   "source": [
    "**Loss**"
   ]
  },
  {
   "cell_type": "code",
   "execution_count": 27,
   "id": "9e5620cb",
   "metadata": {
    "execution": {
     "iopub.execute_input": "2023-12-27T11:17:08.777496Z",
     "iopub.status.busy": "2023-12-27T11:17:08.777111Z",
     "iopub.status.idle": "2023-12-27T11:17:09.105938Z",
     "shell.execute_reply": "2023-12-27T11:17:09.104931Z"
    },
    "papermill": {
     "duration": 0.961425,
     "end_time": "2023-12-27T11:17:09.108039",
     "exception": false,
     "start_time": "2023-12-27T11:17:08.146614",
     "status": "completed"
    },
    "tags": []
   },
   "outputs": [
    {
     "data": {
      "image/png": "[encoded data removed]",
      "text/plain": [
       "<Figure size 640x480 with 1 Axes>"
      ]
     },
     "metadata": {},
     "output_type": "display_data"
    }
   ],
   "source": [
    "plt.plot(History.history['loss'])\n",
    "plt.plot(History.history['val_loss'])\n",
    "plt.title('Model loss')\n",
    "plt.xlabel('Epoch')\n",
    "plt.ylabel('Loss')\n",
    "plt.legend(['Train', 'Validation'], loc='upper left')\n",
    "plt.subplots_adjust(top=1, bottom=0, right=0.95, left=0, hspace=0.25, wspace=0.35)"
   ]
  },
  {
   "cell_type": "markdown",
   "id": "397f007e",
   "metadata": {
    "papermill": {
     "duration": 0.574127,
     "end_time": "2023-12-27T11:17:10.249336",
     "exception": false,
     "start_time": "2023-12-27T11:17:09.675209",
     "status": "completed"
    },
    "tags": []
   },
   "source": [
    "**Gender Accuracy**"
   ]
  },
  {
   "cell_type": "code",
   "execution_count": 28,
   "id": "baa7c450",
   "metadata": {
    "execution": {
     "iopub.execute_input": "2023-12-27T11:17:11.437036Z",
     "iopub.status.busy": "2023-12-27T11:17:11.436679Z",
     "iopub.status.idle": "2023-12-27T11:17:11.772419Z",
     "shell.execute_reply": "2023-12-27T11:17:11.771143Z"
    },
    "papermill": {
     "duration": 0.917029,
     "end_time": "2023-12-27T11:17:11.775661",
     "exception": false,
     "start_time": "2023-12-27T11:17:10.858632",
     "status": "completed"
    },
    "tags": []
   },
   "outputs": [
    {
     "data": {
      "image/png": "[encoded data removed]",
      "text/plain": [
       "<Figure size 640x480 with 1 Axes>"
      ]
     },
     "metadata": {},
     "output_type": "display_data"
    }
   ],
   "source": [
    "plt.plot(History.history['sex_out_accuracy'])\n",
    "plt.plot(History.history['val_sex_out_accuracy'])\n",
    "plt.title('Model accuracy')\n",
    "plt.xlabel('Epoch')\n",
    "plt.ylabel('Accuracy')\n",
    "plt.legend(['Train', 'Validation'], loc='upper left')\n",
    "plt.subplots_adjust(top=1, bottom=0, right=0.95, left=0, hspace=0.25, wspace=0.35)"
   ]
  },
  {
   "cell_type": "markdown",
   "id": "bf04d98e",
   "metadata": {
    "papermill": {
     "duration": 0.624629,
     "end_time": "2023-12-27T11:17:12.991498",
     "exception": false,
     "start_time": "2023-12-27T11:17:12.366869",
     "status": "completed"
    },
    "tags": []
   },
   "source": [
    "**Age Accuracy**"
   ]
  },
  {
   "cell_type": "code",
   "execution_count": 29,
   "id": "86105dbc",
   "metadata": {
    "execution": {
     "iopub.execute_input": "2023-12-27T11:17:14.130812Z",
     "iopub.status.busy": "2023-12-27T11:17:14.130459Z",
     "iopub.status.idle": "2023-12-27T11:17:14.327434Z",
     "shell.execute_reply": "2023-12-27T11:17:14.326525Z"
    },
    "papermill": {
     "duration": 0.768294,
     "end_time": "2023-12-27T11:17:14.329813",
     "exception": false,
     "start_time": "2023-12-27T11:17:13.561519",
     "status": "completed"
    },
    "tags": []
   },
   "outputs": [
    {
     "data": {
      "image/png": "[encoded data removed]",
      "text/plain": [
       "<Figure size 640x480 with 1 Axes>"
      ]
     },
     "metadata": {},
     "output_type": "display_data"
    }
   ],
   "source": [
    "fig, ax = plt.subplots()\n",
    "ax.scatter(y_test2[1], pred[1])\n",
    "ax.plot([y_test2[1].min(), y_test2[1].max()], [y_test2[1].min(), y_test2[1].max()], 'k--', lw=4)\n",
    "ax.set_xlabel('Actual Age')\n",
    "ax.set_ylabel('Predicted Age')\n",
    "plt.show()"
   ]
  },
  {
   "cell_type": "markdown",
   "id": "06b9b139",
   "metadata": {
    "papermill": {
     "duration": 0.614542,
     "end_time": "2023-12-27T11:17:15.508891",
     "exception": false,
     "start_time": "2023-12-27T11:17:14.894349",
     "status": "completed"
    },
    "tags": []
   },
   "source": [
    "## Creating Reports"
   ]
  },
  {
   "cell_type": "code",
   "execution_count": 30,
   "id": "9f4b48cb",
   "metadata": {
    "execution": {
     "iopub.execute_input": "2023-12-27T11:17:16.646106Z",
     "iopub.status.busy": "2023-12-27T11:17:16.645241Z",
     "iopub.status.idle": "2023-12-27T11:17:16.684966Z",
     "shell.execute_reply": "2023-12-27T11:17:16.683976Z"
    },
    "papermill": {
     "duration": 0.613131,
     "end_time": "2023-12-27T11:17:16.686934",
     "exception": false,
     "start_time": "2023-12-27T11:17:16.073803",
     "status": "completed"
    },
    "tags": []
   },
   "outputs": [],
   "source": [
    "i = 0\n",
    "Pred_l = []\n",
    "while(i < len(pred[0])):\n",
    "    Pred_l.append(int(np.round(pred[0][i])))\n",
    "    i += 1"
   ]
  },
  {
   "cell_type": "code",
   "execution_count": 31,
   "id": "ee7b2561",
   "metadata": {
    "execution": {
     "iopub.execute_input": "2023-12-27T11:17:17.889438Z",
     "iopub.status.busy": "2023-12-27T11:17:17.888587Z",
     "iopub.status.idle": "2023-12-27T11:17:17.916796Z",
     "shell.execute_reply": "2023-12-27T11:17:17.915714Z"
    },
    "papermill": {
     "duration": 0.618764,
     "end_time": "2023-12-27T11:17:17.918903",
     "exception": false,
     "start_time": "2023-12-27T11:17:17.300139",
     "status": "completed"
    },
    "tags": []
   },
   "outputs": [
    {
     "name": "stdout",
     "output_type": "stream",
     "text": [
      "Classification Report:\n",
      "               precision    recall  f1-score   support\n",
      "\n",
      "           0       0.87      0.94      0.90      3113\n",
      "           1       0.93      0.85      0.89      2814\n",
      "\n",
      "    accuracy                           0.90      5927\n",
      "   macro avg       0.90      0.89      0.89      5927\n",
      "weighted avg       0.90      0.90      0.90      5927\n",
      "\n",
      "Confusion Matrix:\n",
      " [[2926  187]\n",
      " [ 431 2383]]\n"
     ]
    }
   ],
   "source": [
    "from sklearn.metrics import confusion_matrix, classification_report\n",
    "\n",
    "report = classification_report(y_test2[0], Pred_l)\n",
    "results = confusion_matrix(y_test2[0], Pred_l)\n",
    "print('Classification Report:\\n', report)\n",
    "print('Confusion Matrix:\\n', results)"
   ]
  },
  {
   "cell_type": "markdown",
   "id": "35c3702d",
   "metadata": {
    "papermill": {
     "duration": 0.62159,
     "end_time": "2023-12-27T11:17:19.144609",
     "exception": false,
     "start_time": "2023-12-27T11:17:18.523019",
     "status": "completed"
    },
    "tags": []
   },
   "source": [
    "**Plotting Heatmap**"
   ]
  },
  {
   "cell_type": "code",
   "execution_count": 32,
   "id": "c6bda7ca",
   "metadata": {
    "execution": {
     "iopub.execute_input": "2023-12-27T11:17:20.298360Z",
     "iopub.status.busy": "2023-12-27T11:17:20.297982Z",
     "iopub.status.idle": "2023-12-27T11:17:21.058461Z",
     "shell.execute_reply": "2023-12-27T11:17:21.057480Z"
    },
    "papermill": {
     "duration": 1.338662,
     "end_time": "2023-12-27T11:17:21.060513",
     "exception": false,
     "start_time": "2023-12-27T11:17:19.721851",
     "status": "completed"
    },
    "tags": []
   },
   "outputs": [
    {
     "data": {
      "text/plain": [
       "<Axes: >"
      ]
     },
     "execution_count": 32,
     "metadata": {},
     "output_type": "execute_result"
    },
    {
     "data": {
      "image/png": "[encoded data removed]",
      "text/plain": [
       "<Figure size 640x480 with 2 Axes>"
      ]
     },
     "metadata": {},
     "output_type": "display_data"
    }
   ],
   "source": [
    "import seaborn as sns\n",
    "\n",
    "sns.heatmap(results, annot=True)"
   ]
  },
  {
   "cell_type": "markdown",
   "id": "b459ab6b",
   "metadata": {
    "papermill": {
     "duration": 0.644208,
     "end_time": "2023-12-27T11:17:22.284473",
     "exception": false,
     "start_time": "2023-12-27T11:17:21.640265",
     "status": "completed"
    },
    "tags": []
   },
   "source": [
    "## Manual Testing of Images"
   ]
  },
  {
   "cell_type": "code",
   "execution_count": 33,
   "id": "4de300ca",
   "metadata": {
    "execution": {
     "iopub.execute_input": "2023-12-27T11:17:23.442224Z",
     "iopub.status.busy": "2023-12-27T11:17:23.441812Z",
     "iopub.status.idle": "2023-12-27T11:17:23.450508Z",
     "shell.execute_reply": "2023-12-27T11:17:23.449679Z"
    },
    "papermill": {
     "duration": 0.590684,
     "end_time": "2023-12-27T11:17:23.452518",
     "exception": false,
     "start_time": "2023-12-27T11:17:22.861834",
     "status": "completed"
    },
    "tags": []
   },
   "outputs": [],
   "source": [
    "def test_img(ind, images_f, images_f2, model):\n",
    "    plt.imshow(images_f[ind])\n",
    "    image_test = images_f2[ind]\n",
    "    Pred_l2 = model.predict(np.array([image_test]))\n",
    "    sex_f = ['Male', 'Female']\n",
    "    age = int(np.round(Pred_l2[1][0]))\n",
    "    sex = int(np.round(Pred_l2[0][0]))\n",
    "    print('Predicted Age is: ' + str(age))\n",
    "    print('Predicted Gender is: ' + sex_f[sex])"
   ]
  },
  {
   "cell_type": "code",
   "execution_count": 34,
   "id": "1be788ce",
   "metadata": {
    "execution": {
     "iopub.execute_input": "2023-12-27T11:17:24.681730Z",
     "iopub.status.busy": "2023-12-27T11:17:24.681004Z",
     "iopub.status.idle": "2023-12-27T11:17:25.053562Z",
     "shell.execute_reply": "2023-12-27T11:17:25.052649Z"
    },
    "papermill": {
     "duration": 1.006023,
     "end_time": "2023-12-27T11:17:25.056143",
     "exception": false,
     "start_time": "2023-12-27T11:17:24.050120",
     "status": "completed"
    },
    "tags": []
   },
   "outputs": [
    {
     "name": "stdout",
     "output_type": "stream",
     "text": [
      "1/1 [==============================] - 0s 97ms/step\n",
      "Predicted Age is: 25\n",
      "Predicted Gender is: Female\n"
     ]
    },
    {
     "data": {
      "image/png": "[encoded data removed]",
      "text/plain": [
       "<Figure size 640x480 with 1 Axes>"
      ]
     },
     "metadata": {},
     "output_type": "display_data"
    }
   ],
   "source": [
    "test_img(4, images_f, images_f2, model)"
   ]
  },
  {
   "cell_type": "code",
   "execution_count": 35,
   "id": "455a18fc",
   "metadata": {
    "execution": {
     "iopub.execute_input": "2023-12-27T11:17:26.208729Z",
     "iopub.status.busy": "2023-12-27T11:17:26.207875Z",
     "iopub.status.idle": "2023-12-27T11:17:26.448235Z",
     "shell.execute_reply": "2023-12-27T11:17:26.447327Z"
    },
    "papermill": {
     "duration": 0.817059,
     "end_time": "2023-12-27T11:17:26.450155",
     "exception": false,
     "start_time": "2023-12-27T11:17:25.633096",
     "status": "completed"
    },
    "tags": []
   },
   "outputs": [
    {
     "name": "stdout",
     "output_type": "stream",
     "text": [
      "1/1 [==============================] - 0s 19ms/step\n",
      "Predicted Age is: 31\n",
      "Predicted Gender is: Male\n"
     ]
    },
    {
     "data": {
      "image/png": "[encoded data removed]",
      "text/plain": [
       "<Figure size 640x480 with 1 Axes>"
      ]
     },
     "metadata": {},
     "output_type": "display_data"
    }
   ],
   "source": [
    "test_img(1288, images_f, images_f2, model)"
   ]
  },
  {
   "cell_type": "code",
   "execution_count": 36,
   "id": "f5be6808",
   "metadata": {
    "execution": {
     "iopub.execute_input": "2023-12-27T11:17:27.685951Z",
     "iopub.status.busy": "2023-12-27T11:17:27.685131Z",
     "iopub.status.idle": "2023-12-27T11:17:27.909654Z",
     "shell.execute_reply": "2023-12-27T11:17:27.908757Z"
    },
    "papermill": {
     "duration": 0.884062,
     "end_time": "2023-12-27T11:17:27.911610",
     "exception": false,
     "start_time": "2023-12-27T11:17:27.027548",
     "status": "completed"
    },
    "tags": []
   },
   "outputs": [
    {
     "name": "stdout",
     "output_type": "stream",
     "text": [
      "1/1 [==============================] - 0s 18ms/step\n",
      "Predicted Age is: 51\n",
      "Predicted Gender is: Female\n"
     ]
    },
    {
     "data": {
      "image/png": "[encoded data removed]",
      "text/plain": [
       "<Figure size 640x480 with 1 Axes>"
      ]
     },
     "metadata": {},
     "output_type": "display_data"
    }
   ],
   "source": [
    "test_img(278, images_f, images_f2, model)"
   ]
  },
  {
   "cell_type": "code",
   "execution_count": 37,
   "id": "212887d5",
   "metadata": {
    "execution": {
     "iopub.execute_input": "2023-12-27T11:17:29.052670Z",
     "iopub.status.busy": "2023-12-27T11:17:29.052307Z",
     "iopub.status.idle": "2023-12-27T11:17:29.355047Z",
     "shell.execute_reply": "2023-12-27T11:17:29.354083Z"
    },
    "papermill": {
     "duration": 0.874381,
     "end_time": "2023-12-27T11:17:29.357220",
     "exception": false,
     "start_time": "2023-12-27T11:17:28.482839",
     "status": "completed"
    },
    "tags": []
   },
   "outputs": [
    {
     "name": "stdout",
     "output_type": "stream",
     "text": [
      "1/1 [==============================] - 0s 19ms/step\n",
      "Predicted Age is: 9\n",
      "Predicted Gender is: Male\n"
     ]
    },
    {
     "data": {
      "image/png": "[encoded data removed]",
      "text/plain": [
       "<Figure size 640x480 with 1 Axes>"
      ]
     },
     "metadata": {},
     "output_type": "display_data"
    }
   ],
   "source": [
    "test_img(10902, images_f, images_f2, model)"
   ]
  }
 ],
 "metadata": {
  "kaggle": {
   "accelerator": "gpu",
   "dataSources": [
    {
     "datasetId": 44109,
     "sourceId": 78156,
     "sourceType": "datasetVersion"
    }
   ],
   "dockerImageVersionId": 30627,
   "isGpuEnabled": true,
   "isInternetEnabled": true,
   "language": "python",
   "sourceType": "notebook"
  },
  "kernelspec": {
   "display_name": "Python 3",
   "language": "python",
   "name": "python3"
  },
  "language_info": {
   "codemirror_mode": {
    "name": "ipython",
    "version": 3
   },
   "file_extension": ".py",
   "mimetype": "text/x-python",
   "name": "python",
   "nbconvert_exporter": "python",
   "pygments_lexer": "ipython3",
   "version": "3.10.12"
  },
  "papermill": {
   "default_parameters": {},
   "duration": 918.334163,
   "end_time": "2023-12-27T11:17:32.578074",
   "environment_variables": {},
   "exception": null,
   "input_path": "__notebook__.ipynb",
   "output_path": "__notebook__.ipynb",
   "parameters": {},
   "start_time": "2023-12-27T11:02:14.243911",
   "version": "2.4.0"
  }
 },
 "nbformat": 4,
 "nbformat_minor": 5
}
